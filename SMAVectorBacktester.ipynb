{
 "cells": [
  {
   "cell_type": "code",
   "execution_count": 4,
   "id": "0db8a6cf",
   "metadata": {},
   "outputs": [],
   "source": [
    "# Python Module with Class\n",
    "# for Vectorized Backtesting\n",
    "# of SMA-based Strategies\n",
    "#\n",
    "# Python for Algorithmic Trading # (c) Dr. Yves J. Hilpisch\n",
    "# The Python Quants GmbH\n",
    "#\n",
    "import numpy as np\n",
    "import pandas as pd\n",
    "from scipy.optimize import brute"
   ]
  },
  {
   "cell_type": "code",
   "execution_count": 8,
   "id": "186b23b8",
   "metadata": {},
   "outputs": [],
   "source": [
    "class SMAVectorBacktester(object):\n",
    "    ''' Class for the vectorized backtesting of SMA-based trading strategies.\n",
    "    Attributes\n",
    "    ==========\n",
    "    symbol: str\n",
    "        RIC symbol with which to work\n",
    "    SMA1: int\n",
    "        time window in days for shorter SMA\n",
    "    SMA2: int\n",
    "        time window in days for longer SMA\n",
    "    start: str\n",
    "        start date for data retrieval\n",
    "    end: str\n",
    "        end date for data retrieval\n",
    "    Methods\n",
    "    =======\n",
    "    get_data:\n",
    "        retrieves and prepares the base data set\n",
    "    set_parameters:\n",
    "        sets one or two new SMA parameters\n",
    "    run_strategy:\n",
    "        runs the backtest for the SMA-based strategy\n",
    "    plot_results:\n",
    "        plots the performance of the strategy compared to the symbol\n",
    "    update_and_run:\n",
    "        updates SMA parameters and returns the (negative) absolute performance\n",
    "    optimize_parameters:\n",
    "        implements a brute force optimization for the two SMA parameters\n",
    "    '''\n",
    "    \n",
    "    def __init__(self, SMA1, SMA2, start, end): \n",
    "        self.SMA1 = SMA1\n",
    "        self.SMA2 = SMA2\n",
    "        self.start = start\n",
    "        self.end = end\n",
    "        self.results = None\n",
    "        self.get_data()\n",
    "    \n",
    "    def get_data(self):\n",
    "        ''' \n",
    "        Retrieves and prepares the data.\n",
    "        '''\n",
    "        file_path = '/Users/benny/Downloads/USD_JPY Historical Data.csv'\n",
    "        raw = pd.read_csv(file_path)\n",
    "        raw['Date'] = pd.to_datetime(raw['Date'])\n",
    "        raw.set_index('Date',inplace=True)\n",
    "        raw.sort_index(ascending=True,inplace=True)\n",
    "        raw.drop(['Open','High','Low','Vol.','Change %'], axis=1, inplace=True)\n",
    "      \n",
    "        raw['return'] = np.log(raw['Price'] / raw['Price'].shift(1))\n",
    "        raw['SMA1'] = raw['Price'].rolling(self.SMA1).mean()\n",
    "        raw['SMA2'] = raw['Price'].rolling(self.SMA2).mean()\n",
    "        self.data = raw\n",
    "    \n",
    "    def set_parameters(self, SMA1=None, SMA2=None):\n",
    "        ''' Updates SMA parameters and resp. time series. '''\n",
    "        if SMA1 is not None:\n",
    "            self.SMA1 = SMA1\n",
    "            self.data['SMA1'] = self.data['Price'].rolling(self.SMA1).mean() \n",
    "        if SMA2 is not None:\n",
    "            self.SMA2 = SMA2\n",
    "            self.data['SMA2'] = self.data['Price'].rolling(self.SMA2).mean()\n",
    "    \n",
    "    def run_strategy(self):\n",
    "        ''' \n",
    "        Backtests the trading strategy.\n",
    "        '''\n",
    "        data = self.data.copy().dropna()\n",
    "        data['position'] = np.where(data['SMA1'] > data['SMA2'], 1, -1) \n",
    "        data['strategy'] = data['position'].shift(1) * data['return'] \n",
    "        data.dropna(inplace=True)\n",
    "        data['creturns'] = data['return'].cumsum().apply(np.exp) \n",
    "        data['cstrategy'] = data['strategy'].cumsum().apply(np.exp) \n",
    "        self.results = data\n",
    "        # gross performance of the strategy\n",
    "        aperf = data['cstrategy'].iloc[-1]\n",
    "        # out-/underperformance of strategy\n",
    "        operf = aperf - data['creturns'].iloc[-1]\n",
    "        return round(aperf, 2), round(operf, 2)\n",
    "    \n",
    "    def plot_results(self):\n",
    "        ''' \n",
    "        Plots the cumulative performance of the trading strategy compared to the symbol.\n",
    "        '''\n",
    "        if self.results is None:\n",
    "            print('No results to plot yet. Run a strategy.') \n",
    "        title = '%s | SMA1=%d, SMA2=%d' % (self.symbol,self.SMA1,self.SMA2)\n",
    "        self.results[['creturns', 'cstrategy']].plot(title=title,figsize=(10, 6))\n",
    "    \n",
    "    def update_and_run(self, SMA):\n",
    "        '''\n",
    "        Updates SMA parameters and returns negative absolute performance\n",
    "        (for minimazation algorithm).\n",
    "        Parameters\n",
    "        ==========\n",
    "        SMA: tuple\n",
    "            SMA parameter tuple\n",
    "        '''\n",
    "        self.set_parameters(int(SMA[0]), int(SMA[1])) \n",
    "        return -self.run_strategy()[0]\n",
    "    \n",
    "    def optimize_parameters(self, SMA1_range, SMA2_range):\n",
    "        ''' Finds global maximum given the SMA parameter ranges.\n",
    "        Parameters\n",
    "        ==========\n",
    "        SMA1_range, SMA2_range: tuple\n",
    "            tuples of the form (start, end, step size)\n",
    "        '''\n",
    "        opt = brute(self.update_and_run, (SMA1_range, SMA2_range), finish=None) \n",
    "        return opt, -self.update_and_run(opt)\n",
    "       "
   ]
  },
  {
   "cell_type": "code",
   "execution_count": 9,
   "id": "eaf3f17e",
   "metadata": {},
   "outputs": [],
   "source": [
    "smabt = SMAVectorBacktester(42, 252,'2010-1-1', '2020-12-31')"
   ]
  },
  {
   "cell_type": "code",
   "execution_count": 10,
   "id": "cf527020",
   "metadata": {},
   "outputs": [
    {
     "name": "stdout",
     "output_type": "stream",
     "text": [
      "(1.13, -0.73)\n"
     ]
    }
   ],
   "source": [
    "print(smabt.run_strategy())"
   ]
  },
  {
   "cell_type": "code",
   "execution_count": 11,
   "id": "c709602e",
   "metadata": {},
   "outputs": [
    {
     "name": "stdout",
     "output_type": "stream",
     "text": [
      "(array([ 50., 296.]), 1.56)\n"
     ]
    }
   ],
   "source": [
    "print(smabt.optimize_parameters((30, 56, 4), (200, 300, 4)))"
   ]
  },
  {
   "cell_type": "code",
   "execution_count": null,
   "id": "13a95fa2",
   "metadata": {},
   "outputs": [],
   "source": []
  }
 ],
 "metadata": {
  "kernelspec": {
   "display_name": "Python 3 (ipykernel)",
   "language": "python",
   "name": "python3"
  },
  "language_info": {
   "codemirror_mode": {
    "name": "ipython",
    "version": 3
   },
   "file_extension": ".py",
   "mimetype": "text/x-python",
   "name": "python",
   "nbconvert_exporter": "python",
   "pygments_lexer": "ipython3",
   "version": "3.11.5"
  }
 },
 "nbformat": 4,
 "nbformat_minor": 5
}
