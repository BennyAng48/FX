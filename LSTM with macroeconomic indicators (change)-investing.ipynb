{
 "cells": [
  {
   "cell_type": "code",
   "execution_count": 1,
   "id": "43cb9c49",
   "metadata": {},
   "outputs": [],
   "source": [
    "import yfinance as yf\n",
    "import pandas as pd\n",
    "import numpy as np\n",
    "import matplotlib.pyplot as plt\n",
    "import ta as ta\n",
    "from datetime import datetime\n",
    "import plotly.graph_objects as go\n",
    "from plotly.subplots import make_subplots\n",
    "\n",
    "import torch\n",
    "import torch.nn as nn\n",
    "import lightning.pytorch as pl\n",
    "from lightning.pytorch.callbacks import EarlyStopping, LearningRateMonitor, ModelCheckpoint\n",
    "from lightning.pytorch.loggers import TensorBoardLogger\n",
    "from lightning.pytorch.tuner import Tuner\n",
    "\n",
    "\n",
    "from sklearn.model_selection import train_test_split, TimeSeriesSplit\n",
    "from sklearn.ensemble import RandomForestClassifier, RandomForestRegressor\n",
    "from sklearn.linear_model import HuberRegressor\n",
    "from sklearn.metrics import mean_absolute_error\n",
    "from sklearn.impute import SimpleImputer\n",
    "from sklearn.preprocessing import StandardScaler\n",
    "from sklearn.model_selection import GridSearchCV\n",
    "from sklearn.preprocessing import StandardScaler, MinMaxScaler\n",
    "\n",
    "\n",
    "mm = MinMaxScaler()\n",
    "ss = StandardScaler()\n",
    "\n",
    "#https://technical-analysis-library-in-python.readthedocs.io/en/latest/ta.html#\n",
    "#https://machinelearningmastery.com/how-to-develop-lstm-models-for-time-series-forecasting/\n",
    "#https://www.kaggle.com/code/iamleonie/time-series-forecasting-building-intuition/notebook?scriptVersionId=52169438"
   ]
  },
  {
   "cell_type": "code",
   "execution_count": 2,
   "id": "b7217637",
   "metadata": {},
   "outputs": [],
   "source": [
    "#ticker = \"^TNX\"\n",
    "start=pd.to_datetime('2000-01-01', format='%Y-%m-%d')\n",
    "today_date = datetime.today().strftime('%Y-%m-%d')\n",
    "\n",
    "\n",
    "#EURUSD = \"EURUSD=X\"\n",
    "#USDJPY = \"USDJPY=X\"\n",
    "\n",
    "#13 WEEK TREASURY BILL =\"^IRX\"\n",
    "#Treasury Yield 5 Years =\"^FVX\"\n",
    "#CBOE Interest Rate 10 Year= \"^TNX\"\n",
    "#Treasury Yield 30 Years =\"^TYX\"\n",
    "\n",
    "#S&P 500 = \"^GSPC\"\n",
    "#Nikkei 225= \"^N225\"\n",
    "\n",
    "#Crude Oil=\"CL=F\"\n"
   ]
  },
  {
   "cell_type": "code",
   "execution_count": 3,
   "id": "c75ddb38",
   "metadata": {},
   "outputs": [],
   "source": [
    "# download daily stock price data by passing in specified ticker and date range\n",
    "\n",
    "#df = yf.download(ticker,start,end=today_date)"
   ]
  },
  {
   "cell_type": "code",
   "execution_count": 4,
   "id": "d0b1fea3",
   "metadata": {},
   "outputs": [],
   "source": [
    "#fig = go.Figure(data=go.Scatter(x=df.index,y=df['Close'],mode='lines'))\n",
    "#fig.show()"
   ]
  },
  {
   "cell_type": "code",
   "execution_count": 5,
   "id": "0573408b",
   "metadata": {},
   "outputs": [
    {
     "data": {
      "text/plain": [
       "\"\\n\\n#Download data for indicators available on Yahoo Finance\\n\\nyahoo_indicators = ['USDJPY=X','^GSPC','^N225'] \\ntickers = yf.Tickers(yahoo_indicators)\\ndf = tickers.history(start=start,end=today_date,interval='1D',)\\ndf\\n\\n#https://www.qmr.ai/yfinance-library-the-definitive-guide/#Fetch_Historical_Prices_using_yfinance\\n\\n\""
      ]
     },
     "execution_count": 5,
     "metadata": {},
     "output_type": "execute_result"
    }
   ],
   "source": [
    "'''\n",
    "\n",
    "#Download data for indicators available on Yahoo Finance\n",
    "\n",
    "yahoo_indicators = ['USDJPY=X','^GSPC','^N225'] \n",
    "tickers = yf.Tickers(yahoo_indicators)\n",
    "df = tickers.history(start=start,end=today_date,interval='1D',)\n",
    "df\n",
    "\n",
    "#https://www.qmr.ai/yfinance-library-the-definitive-guide/#Fetch_Historical_Prices_using_yfinance\n",
    "\n",
    "'''"
   ]
  },
  {
   "cell_type": "code",
   "execution_count": 6,
   "id": "20edf298",
   "metadata": {},
   "outputs": [],
   "source": [
    "#df.drop(columns=['Dividends', 'Open','High','Low','Stock Splits','Volume'],inplace=True)"
   ]
  },
  {
   "cell_type": "code",
   "execution_count": 7,
   "id": "6717c9e2",
   "metadata": {},
   "outputs": [],
   "source": [
    "#df= df.droplevel(0, axis=1)"
   ]
  },
  {
   "cell_type": "code",
   "execution_count": 8,
   "id": "96fd0f36",
   "metadata": {},
   "outputs": [],
   "source": [
    "#df.rename(columns={\"USDJPY=X\": \"USDJPY\", \"^GSPC\": \"S&P\", \"^IRX\": \"US3M\", \"^N225\": \"Nikkei225\"},inplace=True)\n",
    "#df"
   ]
  },
  {
   "cell_type": "code",
   "execution_count": 9,
   "id": "642917ea",
   "metadata": {},
   "outputs": [],
   "source": [
    "#df = df.rename_axis('Date').reset_index()"
   ]
  },
  {
   "cell_type": "code",
   "execution_count": 10,
   "id": "b4b1e300",
   "metadata": {},
   "outputs": [],
   "source": [
    "#df['Date'] = pd.to_datetime(df['Date'])"
   ]
  },
  {
   "cell_type": "code",
   "execution_count": 11,
   "id": "f610f69f",
   "metadata": {},
   "outputs": [],
   "source": [
    "#df"
   ]
  },
  {
   "cell_type": "code",
   "execution_count": 12,
   "id": "57b2bb07",
   "metadata": {},
   "outputs": [
    {
     "data": {
      "text/plain": [
       "'\\nUS core CPI (monthly)\\nhttps://fred.stlouisfed.org/series/CORESTICKM157SFRBATL\\n\\nUS core CPI (yearly)\\nhttps://fred.stlouisfed.org/series/CORESTICKM159SFRBATL\\n\\nUS core-core CPI (monthly)\\nhttps://fred.stlouisfed.org/series/CRESTKCPIXSLTRM157SFRBATL\\n\\nUS core-core CPI (yearly)\\nhttps://fred.stlouisfed.org/series/CRESTKCPIXSLTRM159SFRBATL\\n\\nJapan National Consumer Price Index (CPI) YoY\\nhttps://www.investing.com/economic-calendar/national-cpi-992\\n    \\n'"
      ]
     },
     "execution_count": 12,
     "metadata": {},
     "output_type": "execute_result"
    }
   ],
   "source": [
    "'''\n",
    "US core CPI (monthly)\n",
    "https://fred.stlouisfed.org/series/CORESTICKM157SFRBATL\n",
    "\n",
    "US core CPI (yearly)\n",
    "https://fred.stlouisfed.org/series/CORESTICKM159SFRBATL\n",
    "\n",
    "US core-core CPI (monthly)\n",
    "https://fred.stlouisfed.org/series/CRESTKCPIXSLTRM157SFRBATL\n",
    "\n",
    "US core-core CPI (yearly)\n",
    "https://fred.stlouisfed.org/series/CRESTKCPIXSLTRM159SFRBATL\n",
    "\n",
    "Japan National Consumer Price Index (CPI) YoY\n",
    "https://www.investing.com/economic-calendar/national-cpi-992\n",
    "    \n",
    "'''\n",
    "\n",
    "\n"
   ]
  },
  {
   "cell_type": "code",
   "execution_count": 13,
   "id": "9b9e995b",
   "metadata": {},
   "outputs": [
    {
     "name": "stdout",
     "output_type": "stream",
     "text": [
      "           Date  USDJPY_df\n",
      "0    2024-06-03     157.09\n",
      "1    2024-06-02     157.18\n",
      "2    2024-05-31     157.31\n",
      "3    2024-05-30     156.81\n",
      "4    2024-05-29     157.60\n",
      "...         ...        ...\n",
      "4802 2006-01-06     114.42\n",
      "4803 2006-01-05     115.89\n",
      "4804 2006-01-04     115.98\n",
      "4805 2006-01-03     116.19\n",
      "4806 2006-01-02     117.95\n",
      "\n",
      "[4807 rows x 2 columns]\n"
     ]
    }
   ],
   "source": [
    "#https://www.investing.com/rates-bonds/u.s.-2-year-bond-yield-historical-data\n",
    "\n",
    "# Replace 'path/to/your/file.xlsx' with the actual path to your Excel file\n",
    "USDJPY_file_path = '/Users/benny/Downloads/USD_JPY Historical Data.csv'\n",
    "\n",
    "# Use pandas to read the Excel file\n",
    "USDJPY_df = pd.read_csv(USDJPY_file_path)\n",
    "\n",
    "# Print the dataframe to verify it was read correctly\n",
    "#print(USDJPY_df)\n",
    "\n",
    "USDJPY_df['Date'] = pd.to_datetime(USDJPY_df['Date'], format='mixed')\n",
    "#US2y_df.set_index('Date',inplace=True)\n",
    "#US2y_df.sort_index(ascending=True,inplace=True)\n",
    "USDJPY_df.drop(['Open','High','Low','Change %','Vol.'], axis=1, inplace=True)\n",
    "USDJPY_df.rename(columns={\"Price\": \"USDJPY_df\"},inplace=True)\n",
    "print(USDJPY_df)"
   ]
  },
  {
   "cell_type": "code",
   "execution_count": 15,
   "id": "b95ff9a9",
   "metadata": {},
   "outputs": [
    {
     "name": "stdout",
     "output_type": "stream",
     "text": [
      "           Date  SP500_df\n",
      "0    2024-05-31   5277.51\n",
      "1    2024-05-30   5235.48\n",
      "2    2024-05-29   5266.95\n",
      "3    2024-05-28   5306.04\n",
      "4    2024-05-24   5304.72\n",
      "...         ...       ...\n",
      "4629 2006-01-09   1290.20\n",
      "4630 2006-01-06   1285.50\n",
      "4631 2006-01-05   1273.50\n",
      "4632 2006-01-04   1273.50\n",
      "4633 2006-01-03   1268.80\n",
      "\n",
      "[4634 rows x 2 columns]\n"
     ]
    }
   ],
   "source": [
    "#https://www.investing.com/rates-bonds/u.s.-2-year-bond-yield-historical-data\n",
    "\n",
    "# Replace 'path/to/your/file.xlsx' with the actual path to your Excel file\n",
    "SP500_file_path = '/Users/benny/Downloads/S&P 500 Historical Data.csv'\n",
    "\n",
    "# Use pandas to read the Excel file\n",
    "SP500_df = pd.read_csv(SP500_file_path)\n",
    "\n",
    "# Print the dataframe to verify it was read correctly\n",
    "#print(SP500_df)\n",
    "\n",
    "SP500_df['Date'] = pd.to_datetime(SP500_df['Date'], format='mixed')\n",
    "#US2y_df.set_index('Date',inplace=True)\n",
    "#US2y_df.sort_index(ascending=True,inplace=True)\n",
    "SP500_df.drop(['Open','High','Low','Change %','Vol.'], axis=1, inplace=True)\n",
    "SP500_df.rename(columns={\"Price\": \"SP500_df\"},inplace=True)\n",
    "\n",
    "SP500_df['SP500_df'] = SP500_df['SP500_df'].str.replace(\",\", \"\")\n",
    "SP500_df[['SP500_df']] = SP500_df[['SP500_df']].apply(pd.to_numeric)\n",
    "#SP500_df.convert_dtypes().dtypes \n",
    "print(SP500_df)"
   ]
  },
  {
   "cell_type": "code",
   "execution_count": 17,
   "id": "09cda6c7",
   "metadata": {},
   "outputs": [
    {
     "name": "stdout",
     "output_type": "stream",
     "text": [
      "           Date  Nikkei225_df\n",
      "0    2024-06-03      38861.50\n",
      "1    2024-05-31      38487.90\n",
      "2    2024-05-30      38054.13\n",
      "3    2024-05-29      38556.87\n",
      "4    2024-05-28      38855.37\n",
      "...         ...           ...\n",
      "4530 2006-01-11      16363.59\n",
      "4531 2006-01-10      16124.35\n",
      "4532 2006-01-06      16428.21\n",
      "4533 2006-01-05      16425.37\n",
      "4534 2006-01-04      16361.54\n",
      "\n",
      "[4535 rows x 2 columns]\n"
     ]
    }
   ],
   "source": [
    "#https://www.investing.com/rates-bonds/u.s.-2-year-bond-yield-historical-data\n",
    "\n",
    "# Replace 'path/to/your/file.xlsx' with the actual path to your Excel file\n",
    "Nikkei225_file_path = '/Users/benny/Downloads/Nikkei 225 Historical Data.csv'\n",
    "\n",
    "# Use pandas to read the Excel file\n",
    "Nikkei225_df = pd.read_csv(Nikkei225_file_path)\n",
    "\n",
    "# Print the dataframe to verify it was read correctly\n",
    "#print(Nikkei225_df)\n",
    "\n",
    "Nikkei225_df['Date'] = pd.to_datetime(Nikkei225_df['Date'], format='mixed')\n",
    "#US2y_df.set_index('Date',inplace=True)\n",
    "#US2y_df.sort_index(ascending=True,inplace=True)\n",
    "Nikkei225_df.drop(['Open','High','Low','Change %','Vol.'], axis=1, inplace=True)\n",
    "Nikkei225_df.rename(columns={\"Price\": \"Nikkei225_df\"},inplace=True)\n",
    "\n",
    "Nikkei225_df['Nikkei225_df'] = Nikkei225_df['Nikkei225_df'].str.replace(\",\", \"\")\n",
    "Nikkei225_df[['Nikkei225_df']] = Nikkei225_df[['Nikkei225_df']].apply(pd.to_numeric)\n",
    "print(Nikkei225_df)"
   ]
  },
  {
   "cell_type": "code",
   "execution_count": 19,
   "id": "07045c14",
   "metadata": {},
   "outputs": [
    {
     "name": "stdout",
     "output_type": "stream",
     "text": [
      "           Date  US2y_df\n",
      "0    2024-05-31    4.919\n",
      "1    2024-05-30    4.927\n",
      "2    2024-05-29    4.975\n",
      "3    2024-05-28    4.978\n",
      "4    2024-05-27    4.935\n",
      "...         ...      ...\n",
      "4807 2006-01-09    4.353\n",
      "4808 2006-01-06    4.366\n",
      "4809 2006-01-05    4.325\n",
      "4810 2006-01-04    4.304\n",
      "4811 2006-01-03    4.333\n",
      "\n",
      "[4812 rows x 2 columns]\n"
     ]
    }
   ],
   "source": [
    "#https://www.investing.com/rates-bonds/u.s.-2-year-bond-yield-historical-data\n",
    "\n",
    "# Replace 'path/to/your/file.xlsx' with the actual path to your Excel file\n",
    "US2y_file_path = '/Users/benny/Downloads/United States 2-Year Bond Yield Historical Data.csv'\n",
    "\n",
    "# Use pandas to read the Excel file\n",
    "US2y_df = pd.read_csv(US2y_file_path)\n",
    "\n",
    "# Print the dataframe to verify it was read correctly\n",
    "#print(US2y_df)\n",
    "\n",
    "US2y_df['Date'] = pd.to_datetime(US2y_df['Date'], format='mixed')\n",
    "#US2y_df.set_index('Date',inplace=True)\n",
    "#US2y_df.sort_index(ascending=True,inplace=True)\n",
    "US2y_df.drop(['Open','High','Low','Change %'], axis=1, inplace=True)\n",
    "US2y_df.rename(columns={\"Price\": \"US2y_df\"},inplace=True)\n",
    "print(US2y_df)"
   ]
  },
  {
   "cell_type": "code",
   "execution_count": 20,
   "id": "c1522cf3",
   "metadata": {},
   "outputs": [
    {
     "name": "stdout",
     "output_type": "stream",
     "text": [
      "           Date  JP2y_df\n",
      "0    2024-05-30    0.377\n",
      "1    2024-05-29    0.376\n",
      "2    2024-05-28    0.350\n",
      "3    2024-05-27    0.345\n",
      "4    2024-05-26    0.333\n",
      "...         ...      ...\n",
      "4922 2006-07-26    0.839\n",
      "4923 2006-07-25    0.849\n",
      "4924 2006-07-24    0.824\n",
      "4925 2006-07-21    0.794\n",
      "4926 2006-07-20    0.794\n",
      "\n",
      "[4927 rows x 2 columns]\n"
     ]
    }
   ],
   "source": [
    "#https://www.investing.com/rates-bonds/japan-2-year-bond-yield-historical-data\n",
    "\n",
    "# Replace 'path/to/your/file.xlsx' with the actual path to your Excel file\n",
    "JP2y_file_path = '/Users/benny/Downloads/Japan 2-Year Bond Yield Historical Data.csv'\n",
    "\n",
    "# Use pandas to read the Excel file\n",
    "JP2y_df = pd.read_csv(JP2y_file_path)\n",
    "\n",
    "# Print the dataframe to verify it was read correctly\n",
    "#print(JP2y_df)\n",
    "\n",
    "JP2y_df['Date'] = pd.to_datetime(JP2y_df['Date'], format='mixed')\n",
    "#JP2y_df.set_index('Date',inplace=True)\n",
    "#JP2y_df.sort_index(ascending=True,inplace=True)\n",
    "JP2y_df.drop(['Open','High','Low','Change %'], axis=1, inplace=True)\n",
    "JP2y_df.rename(columns={\"Price\": \"JP2y_df\"},inplace=True)\n",
    "print(JP2y_df)"
   ]
  },
  {
   "cell_type": "code",
   "execution_count": null,
   "id": "99b3a45f",
   "metadata": {},
   "outputs": [],
   "source": [
    "#JP2y_df.plot(figsize=(10, 6));"
   ]
  },
  {
   "cell_type": "code",
   "execution_count": 21,
   "id": "64f8be3b",
   "metadata": {},
   "outputs": [],
   "source": [
    "df = USDJPY_df.merge(SP500_df, on='Date', how='left')\n",
    "df = df.merge(Nikkei225_df, on='Date', how='left')\n",
    "df = df.merge(US2y_df, on='Date', how='left')\n",
    "df = df.merge(JP2y_df, on='Date', how='left')"
   ]
  },
  {
   "cell_type": "code",
   "execution_count": 22,
   "id": "0e0f204b",
   "metadata": {},
   "outputs": [
    {
     "data": {
      "text/html": [
       "<div>\n",
       "<style scoped>\n",
       "    .dataframe tbody tr th:only-of-type {\n",
       "        vertical-align: middle;\n",
       "    }\n",
       "\n",
       "    .dataframe tbody tr th {\n",
       "        vertical-align: top;\n",
       "    }\n",
       "\n",
       "    .dataframe thead th {\n",
       "        text-align: right;\n",
       "    }\n",
       "</style>\n",
       "<table border=\"1\" class=\"dataframe\">\n",
       "  <thead>\n",
       "    <tr style=\"text-align: right;\">\n",
       "      <th></th>\n",
       "      <th>Date</th>\n",
       "      <th>USDJPY_df</th>\n",
       "      <th>SP500_df</th>\n",
       "      <th>Nikkei225_df</th>\n",
       "      <th>US2y_df</th>\n",
       "      <th>JP2y_df</th>\n",
       "    </tr>\n",
       "  </thead>\n",
       "  <tbody>\n",
       "    <tr>\n",
       "      <th>0</th>\n",
       "      <td>2024-06-03</td>\n",
       "      <td>157.09</td>\n",
       "      <td>NaN</td>\n",
       "      <td>38861.50</td>\n",
       "      <td>NaN</td>\n",
       "      <td>NaN</td>\n",
       "    </tr>\n",
       "    <tr>\n",
       "      <th>1</th>\n",
       "      <td>2024-06-02</td>\n",
       "      <td>157.18</td>\n",
       "      <td>NaN</td>\n",
       "      <td>NaN</td>\n",
       "      <td>NaN</td>\n",
       "      <td>NaN</td>\n",
       "    </tr>\n",
       "    <tr>\n",
       "      <th>2</th>\n",
       "      <td>2024-05-31</td>\n",
       "      <td>157.31</td>\n",
       "      <td>5277.51</td>\n",
       "      <td>38487.90</td>\n",
       "      <td>4.919</td>\n",
       "      <td>NaN</td>\n",
       "    </tr>\n",
       "    <tr>\n",
       "      <th>3</th>\n",
       "      <td>2024-05-30</td>\n",
       "      <td>156.81</td>\n",
       "      <td>5235.48</td>\n",
       "      <td>38054.13</td>\n",
       "      <td>4.927</td>\n",
       "      <td>0.377</td>\n",
       "    </tr>\n",
       "    <tr>\n",
       "      <th>4</th>\n",
       "      <td>2024-05-29</td>\n",
       "      <td>157.60</td>\n",
       "      <td>5266.95</td>\n",
       "      <td>38556.87</td>\n",
       "      <td>4.975</td>\n",
       "      <td>0.376</td>\n",
       "    </tr>\n",
       "    <tr>\n",
       "      <th>...</th>\n",
       "      <td>...</td>\n",
       "      <td>...</td>\n",
       "      <td>...</td>\n",
       "      <td>...</td>\n",
       "      <td>...</td>\n",
       "      <td>...</td>\n",
       "    </tr>\n",
       "    <tr>\n",
       "      <th>4802</th>\n",
       "      <td>2006-01-06</td>\n",
       "      <td>114.42</td>\n",
       "      <td>1285.50</td>\n",
       "      <td>16428.21</td>\n",
       "      <td>4.366</td>\n",
       "      <td>NaN</td>\n",
       "    </tr>\n",
       "    <tr>\n",
       "      <th>4803</th>\n",
       "      <td>2006-01-05</td>\n",
       "      <td>115.89</td>\n",
       "      <td>1273.50</td>\n",
       "      <td>16425.37</td>\n",
       "      <td>4.325</td>\n",
       "      <td>NaN</td>\n",
       "    </tr>\n",
       "    <tr>\n",
       "      <th>4804</th>\n",
       "      <td>2006-01-04</td>\n",
       "      <td>115.98</td>\n",
       "      <td>1273.50</td>\n",
       "      <td>16361.54</td>\n",
       "      <td>4.304</td>\n",
       "      <td>NaN</td>\n",
       "    </tr>\n",
       "    <tr>\n",
       "      <th>4805</th>\n",
       "      <td>2006-01-03</td>\n",
       "      <td>116.19</td>\n",
       "      <td>1268.80</td>\n",
       "      <td>NaN</td>\n",
       "      <td>4.333</td>\n",
       "      <td>NaN</td>\n",
       "    </tr>\n",
       "    <tr>\n",
       "      <th>4806</th>\n",
       "      <td>2006-01-02</td>\n",
       "      <td>117.95</td>\n",
       "      <td>NaN</td>\n",
       "      <td>NaN</td>\n",
       "      <td>NaN</td>\n",
       "      <td>NaN</td>\n",
       "    </tr>\n",
       "  </tbody>\n",
       "</table>\n",
       "<p>4807 rows × 6 columns</p>\n",
       "</div>"
      ],
      "text/plain": [
       "           Date  USDJPY_df  SP500_df  Nikkei225_df  US2y_df  JP2y_df\n",
       "0    2024-06-03     157.09       NaN      38861.50      NaN      NaN\n",
       "1    2024-06-02     157.18       NaN           NaN      NaN      NaN\n",
       "2    2024-05-31     157.31   5277.51      38487.90    4.919      NaN\n",
       "3    2024-05-30     156.81   5235.48      38054.13    4.927    0.377\n",
       "4    2024-05-29     157.60   5266.95      38556.87    4.975    0.376\n",
       "...         ...        ...       ...           ...      ...      ...\n",
       "4802 2006-01-06     114.42   1285.50      16428.21    4.366      NaN\n",
       "4803 2006-01-05     115.89   1273.50      16425.37    4.325      NaN\n",
       "4804 2006-01-04     115.98   1273.50      16361.54    4.304      NaN\n",
       "4805 2006-01-03     116.19   1268.80           NaN    4.333      NaN\n",
       "4806 2006-01-02     117.95       NaN           NaN      NaN      NaN\n",
       "\n",
       "[4807 rows x 6 columns]"
      ]
     },
     "execution_count": 22,
     "metadata": {},
     "output_type": "execute_result"
    }
   ],
   "source": [
    "df"
   ]
  },
  {
   "cell_type": "code",
   "execution_count": 23,
   "id": "8e38152c",
   "metadata": {},
   "outputs": [],
   "source": [
    "df.sort_values(by='Date', ascending=True,inplace=True)\n",
    "df.set_index('Date',inplace=True)\n",
    "df = df.fillna(method=\"ffill\")\n",
    "df.dropna(inplace=True)"
   ]
  },
  {
   "cell_type": "code",
   "execution_count": 24,
   "id": "d3c5b252",
   "metadata": {},
   "outputs": [
    {
     "data": {
      "text/html": [
       "<div>\n",
       "<style scoped>\n",
       "    .dataframe tbody tr th:only-of-type {\n",
       "        vertical-align: middle;\n",
       "    }\n",
       "\n",
       "    .dataframe tbody tr th {\n",
       "        vertical-align: top;\n",
       "    }\n",
       "\n",
       "    .dataframe thead th {\n",
       "        text-align: right;\n",
       "    }\n",
       "</style>\n",
       "<table border=\"1\" class=\"dataframe\">\n",
       "  <thead>\n",
       "    <tr style=\"text-align: right;\">\n",
       "      <th></th>\n",
       "      <th>USDJPY_df</th>\n",
       "      <th>SP500_df</th>\n",
       "      <th>Nikkei225_df</th>\n",
       "      <th>US2y_df</th>\n",
       "      <th>JP2y_df</th>\n",
       "    </tr>\n",
       "    <tr>\n",
       "      <th>Date</th>\n",
       "      <th></th>\n",
       "      <th></th>\n",
       "      <th></th>\n",
       "      <th></th>\n",
       "      <th></th>\n",
       "    </tr>\n",
       "  </thead>\n",
       "  <tbody>\n",
       "    <tr>\n",
       "      <th>2006-07-20</th>\n",
       "      <td>117.03</td>\n",
       "      <td>1249.10</td>\n",
       "      <td>14946.84</td>\n",
       "      <td>5.068</td>\n",
       "      <td>0.794</td>\n",
       "    </tr>\n",
       "    <tr>\n",
       "      <th>2006-07-21</th>\n",
       "      <td>116.15</td>\n",
       "      <td>1240.30</td>\n",
       "      <td>14821.26</td>\n",
       "      <td>5.089</td>\n",
       "      <td>0.794</td>\n",
       "    </tr>\n",
       "    <tr>\n",
       "      <th>2006-07-24</th>\n",
       "      <td>116.67</td>\n",
       "      <td>1260.90</td>\n",
       "      <td>14794.50</td>\n",
       "      <td>5.093</td>\n",
       "      <td>0.824</td>\n",
       "    </tr>\n",
       "    <tr>\n",
       "      <th>2006-07-25</th>\n",
       "      <td>117.18</td>\n",
       "      <td>1268.90</td>\n",
       "      <td>15005.24</td>\n",
       "      <td>5.123</td>\n",
       "      <td>0.849</td>\n",
       "    </tr>\n",
       "    <tr>\n",
       "      <th>2006-07-26</th>\n",
       "      <td>116.29</td>\n",
       "      <td>1268.40</td>\n",
       "      <td>14884.07</td>\n",
       "      <td>5.075</td>\n",
       "      <td>0.839</td>\n",
       "    </tr>\n",
       "    <tr>\n",
       "      <th>...</th>\n",
       "      <td>...</td>\n",
       "      <td>...</td>\n",
       "      <td>...</td>\n",
       "      <td>...</td>\n",
       "      <td>...</td>\n",
       "    </tr>\n",
       "    <tr>\n",
       "      <th>2024-05-29</th>\n",
       "      <td>157.60</td>\n",
       "      <td>5266.95</td>\n",
       "      <td>38556.87</td>\n",
       "      <td>4.975</td>\n",
       "      <td>0.376</td>\n",
       "    </tr>\n",
       "    <tr>\n",
       "      <th>2024-05-30</th>\n",
       "      <td>156.81</td>\n",
       "      <td>5235.48</td>\n",
       "      <td>38054.13</td>\n",
       "      <td>4.927</td>\n",
       "      <td>0.377</td>\n",
       "    </tr>\n",
       "    <tr>\n",
       "      <th>2024-05-31</th>\n",
       "      <td>157.31</td>\n",
       "      <td>5277.51</td>\n",
       "      <td>38487.90</td>\n",
       "      <td>4.919</td>\n",
       "      <td>0.377</td>\n",
       "    </tr>\n",
       "    <tr>\n",
       "      <th>2024-06-02</th>\n",
       "      <td>157.18</td>\n",
       "      <td>5277.51</td>\n",
       "      <td>38487.90</td>\n",
       "      <td>4.919</td>\n",
       "      <td>0.377</td>\n",
       "    </tr>\n",
       "    <tr>\n",
       "      <th>2024-06-03</th>\n",
       "      <td>157.09</td>\n",
       "      <td>5277.51</td>\n",
       "      <td>38861.50</td>\n",
       "      <td>4.919</td>\n",
       "      <td>0.377</td>\n",
       "    </tr>\n",
       "  </tbody>\n",
       "</table>\n",
       "<p>4664 rows × 5 columns</p>\n",
       "</div>"
      ],
      "text/plain": [
       "            USDJPY_df  SP500_df  Nikkei225_df  US2y_df  JP2y_df\n",
       "Date                                                           \n",
       "2006-07-20     117.03   1249.10      14946.84    5.068    0.794\n",
       "2006-07-21     116.15   1240.30      14821.26    5.089    0.794\n",
       "2006-07-24     116.67   1260.90      14794.50    5.093    0.824\n",
       "2006-07-25     117.18   1268.90      15005.24    5.123    0.849\n",
       "2006-07-26     116.29   1268.40      14884.07    5.075    0.839\n",
       "...               ...       ...           ...      ...      ...\n",
       "2024-05-29     157.60   5266.95      38556.87    4.975    0.376\n",
       "2024-05-30     156.81   5235.48      38054.13    4.927    0.377\n",
       "2024-05-31     157.31   5277.51      38487.90    4.919    0.377\n",
       "2024-06-02     157.18   5277.51      38487.90    4.919    0.377\n",
       "2024-06-03     157.09   5277.51      38861.50    4.919    0.377\n",
       "\n",
       "[4664 rows x 5 columns]"
      ]
     },
     "execution_count": 24,
     "metadata": {},
     "output_type": "execute_result"
    }
   ],
   "source": [
    "df"
   ]
  },
  {
   "cell_type": "code",
   "execution_count": 25,
   "id": "2283fd1e",
   "metadata": {},
   "outputs": [],
   "source": [
    "df['USDJPY_delta'] = np.log(df['USDJPY_df']/df['USDJPY_df'].shift(1))\n",
    "df['S&P_delta'] = np.log(df['SP500_df']/df['SP500_df'].shift(1))\n",
    "df['Nikkei225_delta'] = np.log(df['Nikkei225_df']/df['Nikkei225_df'].shift(1))\n",
    "df['US2y_df_delta'] = df['US2y_df']-df['US2y_df'].shift(1)\n",
    "df['JP2y_df_delta'] = df['JP2y_df']-df['JP2y_df'].shift(1)"
   ]
  },
  {
   "cell_type": "code",
   "execution_count": 26,
   "id": "aea970f5",
   "metadata": {},
   "outputs": [
    {
     "data": {
      "text/html": [
       "<div>\n",
       "<style scoped>\n",
       "    .dataframe tbody tr th:only-of-type {\n",
       "        vertical-align: middle;\n",
       "    }\n",
       "\n",
       "    .dataframe tbody tr th {\n",
       "        vertical-align: top;\n",
       "    }\n",
       "\n",
       "    .dataframe thead th {\n",
       "        text-align: right;\n",
       "    }\n",
       "</style>\n",
       "<table border=\"1\" class=\"dataframe\">\n",
       "  <thead>\n",
       "    <tr style=\"text-align: right;\">\n",
       "      <th></th>\n",
       "      <th>USDJPY_df</th>\n",
       "      <th>SP500_df</th>\n",
       "      <th>Nikkei225_df</th>\n",
       "      <th>US2y_df</th>\n",
       "      <th>JP2y_df</th>\n",
       "      <th>USDJPY_delta</th>\n",
       "      <th>S&amp;P_delta</th>\n",
       "      <th>Nikkei225_delta</th>\n",
       "      <th>US2y_df_delta</th>\n",
       "      <th>JP2y_df_delta</th>\n",
       "    </tr>\n",
       "    <tr>\n",
       "      <th>Date</th>\n",
       "      <th></th>\n",
       "      <th></th>\n",
       "      <th></th>\n",
       "      <th></th>\n",
       "      <th></th>\n",
       "      <th></th>\n",
       "      <th></th>\n",
       "      <th></th>\n",
       "      <th></th>\n",
       "      <th></th>\n",
       "    </tr>\n",
       "  </thead>\n",
       "  <tbody>\n",
       "    <tr>\n",
       "      <th>2006-07-20</th>\n",
       "      <td>117.03</td>\n",
       "      <td>1249.10</td>\n",
       "      <td>14946.84</td>\n",
       "      <td>5.068</td>\n",
       "      <td>0.794</td>\n",
       "      <td>NaN</td>\n",
       "      <td>NaN</td>\n",
       "      <td>NaN</td>\n",
       "      <td>NaN</td>\n",
       "      <td>NaN</td>\n",
       "    </tr>\n",
       "    <tr>\n",
       "      <th>2006-07-21</th>\n",
       "      <td>116.15</td>\n",
       "      <td>1240.30</td>\n",
       "      <td>14821.26</td>\n",
       "      <td>5.089</td>\n",
       "      <td>0.794</td>\n",
       "      <td>-0.007548</td>\n",
       "      <td>-0.007070</td>\n",
       "      <td>-0.008437</td>\n",
       "      <td>0.021</td>\n",
       "      <td>0.000</td>\n",
       "    </tr>\n",
       "    <tr>\n",
       "      <th>2006-07-24</th>\n",
       "      <td>116.67</td>\n",
       "      <td>1260.90</td>\n",
       "      <td>14794.50</td>\n",
       "      <td>5.093</td>\n",
       "      <td>0.824</td>\n",
       "      <td>0.004467</td>\n",
       "      <td>0.016472</td>\n",
       "      <td>-0.001807</td>\n",
       "      <td>0.004</td>\n",
       "      <td>0.030</td>\n",
       "    </tr>\n",
       "    <tr>\n",
       "      <th>2006-07-25</th>\n",
       "      <td>117.18</td>\n",
       "      <td>1268.90</td>\n",
       "      <td>15005.24</td>\n",
       "      <td>5.123</td>\n",
       "      <td>0.849</td>\n",
       "      <td>0.004362</td>\n",
       "      <td>0.006325</td>\n",
       "      <td>0.014144</td>\n",
       "      <td>0.030</td>\n",
       "      <td>0.025</td>\n",
       "    </tr>\n",
       "    <tr>\n",
       "      <th>2006-07-26</th>\n",
       "      <td>116.29</td>\n",
       "      <td>1268.40</td>\n",
       "      <td>14884.07</td>\n",
       "      <td>5.075</td>\n",
       "      <td>0.839</td>\n",
       "      <td>-0.007624</td>\n",
       "      <td>-0.000394</td>\n",
       "      <td>-0.008108</td>\n",
       "      <td>-0.048</td>\n",
       "      <td>-0.010</td>\n",
       "    </tr>\n",
       "    <tr>\n",
       "      <th>...</th>\n",
       "      <td>...</td>\n",
       "      <td>...</td>\n",
       "      <td>...</td>\n",
       "      <td>...</td>\n",
       "      <td>...</td>\n",
       "      <td>...</td>\n",
       "      <td>...</td>\n",
       "      <td>...</td>\n",
       "      <td>...</td>\n",
       "      <td>...</td>\n",
       "    </tr>\n",
       "    <tr>\n",
       "      <th>2024-05-29</th>\n",
       "      <td>157.60</td>\n",
       "      <td>5266.95</td>\n",
       "      <td>38556.87</td>\n",
       "      <td>4.975</td>\n",
       "      <td>0.376</td>\n",
       "      <td>0.002796</td>\n",
       "      <td>-0.007394</td>\n",
       "      <td>-0.007712</td>\n",
       "      <td>-0.003</td>\n",
       "      <td>0.026</td>\n",
       "    </tr>\n",
       "    <tr>\n",
       "      <th>2024-05-30</th>\n",
       "      <td>156.81</td>\n",
       "      <td>5235.48</td>\n",
       "      <td>38054.13</td>\n",
       "      <td>4.927</td>\n",
       "      <td>0.377</td>\n",
       "      <td>-0.005025</td>\n",
       "      <td>-0.005993</td>\n",
       "      <td>-0.013125</td>\n",
       "      <td>-0.048</td>\n",
       "      <td>0.001</td>\n",
       "    </tr>\n",
       "    <tr>\n",
       "      <th>2024-05-31</th>\n",
       "      <td>157.31</td>\n",
       "      <td>5277.51</td>\n",
       "      <td>38487.90</td>\n",
       "      <td>4.919</td>\n",
       "      <td>0.377</td>\n",
       "      <td>0.003183</td>\n",
       "      <td>0.007996</td>\n",
       "      <td>0.011334</td>\n",
       "      <td>-0.008</td>\n",
       "      <td>0.000</td>\n",
       "    </tr>\n",
       "    <tr>\n",
       "      <th>2024-06-02</th>\n",
       "      <td>157.18</td>\n",
       "      <td>5277.51</td>\n",
       "      <td>38487.90</td>\n",
       "      <td>4.919</td>\n",
       "      <td>0.377</td>\n",
       "      <td>-0.000827</td>\n",
       "      <td>0.000000</td>\n",
       "      <td>0.000000</td>\n",
       "      <td>0.000</td>\n",
       "      <td>0.000</td>\n",
       "    </tr>\n",
       "    <tr>\n",
       "      <th>2024-06-03</th>\n",
       "      <td>157.09</td>\n",
       "      <td>5277.51</td>\n",
       "      <td>38861.50</td>\n",
       "      <td>4.919</td>\n",
       "      <td>0.377</td>\n",
       "      <td>-0.000573</td>\n",
       "      <td>0.000000</td>\n",
       "      <td>0.009660</td>\n",
       "      <td>0.000</td>\n",
       "      <td>0.000</td>\n",
       "    </tr>\n",
       "  </tbody>\n",
       "</table>\n",
       "<p>4664 rows × 10 columns</p>\n",
       "</div>"
      ],
      "text/plain": [
       "            USDJPY_df  SP500_df  Nikkei225_df  US2y_df  JP2y_df  USDJPY_delta  \\\n",
       "Date                                                                            \n",
       "2006-07-20     117.03   1249.10      14946.84    5.068    0.794           NaN   \n",
       "2006-07-21     116.15   1240.30      14821.26    5.089    0.794     -0.007548   \n",
       "2006-07-24     116.67   1260.90      14794.50    5.093    0.824      0.004467   \n",
       "2006-07-25     117.18   1268.90      15005.24    5.123    0.849      0.004362   \n",
       "2006-07-26     116.29   1268.40      14884.07    5.075    0.839     -0.007624   \n",
       "...               ...       ...           ...      ...      ...           ...   \n",
       "2024-05-29     157.60   5266.95      38556.87    4.975    0.376      0.002796   \n",
       "2024-05-30     156.81   5235.48      38054.13    4.927    0.377     -0.005025   \n",
       "2024-05-31     157.31   5277.51      38487.90    4.919    0.377      0.003183   \n",
       "2024-06-02     157.18   5277.51      38487.90    4.919    0.377     -0.000827   \n",
       "2024-06-03     157.09   5277.51      38861.50    4.919    0.377     -0.000573   \n",
       "\n",
       "            S&P_delta  Nikkei225_delta  US2y_df_delta  JP2y_df_delta  \n",
       "Date                                                                  \n",
       "2006-07-20        NaN              NaN            NaN            NaN  \n",
       "2006-07-21  -0.007070        -0.008437          0.021          0.000  \n",
       "2006-07-24   0.016472        -0.001807          0.004          0.030  \n",
       "2006-07-25   0.006325         0.014144          0.030          0.025  \n",
       "2006-07-26  -0.000394        -0.008108         -0.048         -0.010  \n",
       "...               ...              ...            ...            ...  \n",
       "2024-05-29  -0.007394        -0.007712         -0.003          0.026  \n",
       "2024-05-30  -0.005993        -0.013125         -0.048          0.001  \n",
       "2024-05-31   0.007996         0.011334         -0.008          0.000  \n",
       "2024-06-02   0.000000         0.000000          0.000          0.000  \n",
       "2024-06-03   0.000000         0.009660          0.000          0.000  \n",
       "\n",
       "[4664 rows x 10 columns]"
      ]
     },
     "execution_count": 26,
     "metadata": {},
     "output_type": "execute_result"
    }
   ],
   "source": [
    "df"
   ]
  },
  {
   "cell_type": "code",
   "execution_count": 27,
   "id": "c0a64465",
   "metadata": {},
   "outputs": [],
   "source": [
    "st = datetime(2007, 1, 1, 0, 0)\n",
    "\n",
    "#df1=df[st:,['USDJPY_delta','S&P_delta','Nikkei225_delta','US2y_df_delta','JP2y_df_delta']]\n",
    "df1=df[st:]"
   ]
  },
  {
   "cell_type": "code",
   "execution_count": 28,
   "id": "07aabc1d",
   "metadata": {},
   "outputs": [],
   "source": [
    "df1=df1.iloc[:,5:]"
   ]
  },
  {
   "cell_type": "code",
   "execution_count": 29,
   "id": "102c2d06",
   "metadata": {},
   "outputs": [
    {
     "data": {
      "text/html": [
       "<div>\n",
       "<style scoped>\n",
       "    .dataframe tbody tr th:only-of-type {\n",
       "        vertical-align: middle;\n",
       "    }\n",
       "\n",
       "    .dataframe tbody tr th {\n",
       "        vertical-align: top;\n",
       "    }\n",
       "\n",
       "    .dataframe thead th {\n",
       "        text-align: right;\n",
       "    }\n",
       "</style>\n",
       "<table border=\"1\" class=\"dataframe\">\n",
       "  <thead>\n",
       "    <tr style=\"text-align: right;\">\n",
       "      <th></th>\n",
       "      <th>USDJPY_delta</th>\n",
       "      <th>S&amp;P_delta</th>\n",
       "      <th>Nikkei225_delta</th>\n",
       "      <th>US2y_df_delta</th>\n",
       "      <th>JP2y_df_delta</th>\n",
       "    </tr>\n",
       "    <tr>\n",
       "      <th>Date</th>\n",
       "      <th></th>\n",
       "      <th></th>\n",
       "      <th></th>\n",
       "      <th></th>\n",
       "      <th></th>\n",
       "    </tr>\n",
       "  </thead>\n",
       "  <tbody>\n",
       "    <tr>\n",
       "      <th>2007-01-01</th>\n",
       "      <td>0.000336</td>\n",
       "      <td>0.000000</td>\n",
       "      <td>0.000000</td>\n",
       "      <td>0.000</td>\n",
       "      <td>0.000</td>\n",
       "    </tr>\n",
       "    <tr>\n",
       "      <th>2007-01-02</th>\n",
       "      <td>-0.002102</td>\n",
       "      <td>0.000000</td>\n",
       "      <td>0.000000</td>\n",
       "      <td>-0.021</td>\n",
       "      <td>0.000</td>\n",
       "    </tr>\n",
       "    <tr>\n",
       "      <th>2007-01-03</th>\n",
       "      <td>0.004619</td>\n",
       "      <td>-0.001199</td>\n",
       "      <td>0.000000</td>\n",
       "      <td>-0.038</td>\n",
       "      <td>0.000</td>\n",
       "    </tr>\n",
       "    <tr>\n",
       "      <th>2007-01-04</th>\n",
       "      <td>-0.002769</td>\n",
       "      <td>0.001199</td>\n",
       "      <td>0.007394</td>\n",
       "      <td>-0.062</td>\n",
       "      <td>0.035</td>\n",
       "    </tr>\n",
       "    <tr>\n",
       "      <th>2007-01-05</th>\n",
       "      <td>-0.003535</td>\n",
       "      <td>-0.006082</td>\n",
       "      <td>-0.015217</td>\n",
       "      <td>0.058</td>\n",
       "      <td>0.000</td>\n",
       "    </tr>\n",
       "    <tr>\n",
       "      <th>...</th>\n",
       "      <td>...</td>\n",
       "      <td>...</td>\n",
       "      <td>...</td>\n",
       "      <td>...</td>\n",
       "      <td>...</td>\n",
       "    </tr>\n",
       "    <tr>\n",
       "      <th>2024-05-29</th>\n",
       "      <td>0.002796</td>\n",
       "      <td>-0.007394</td>\n",
       "      <td>-0.007712</td>\n",
       "      <td>-0.003</td>\n",
       "      <td>0.026</td>\n",
       "    </tr>\n",
       "    <tr>\n",
       "      <th>2024-05-30</th>\n",
       "      <td>-0.005025</td>\n",
       "      <td>-0.005993</td>\n",
       "      <td>-0.013125</td>\n",
       "      <td>-0.048</td>\n",
       "      <td>0.001</td>\n",
       "    </tr>\n",
       "    <tr>\n",
       "      <th>2024-05-31</th>\n",
       "      <td>0.003183</td>\n",
       "      <td>0.007996</td>\n",
       "      <td>0.011334</td>\n",
       "      <td>-0.008</td>\n",
       "      <td>0.000</td>\n",
       "    </tr>\n",
       "    <tr>\n",
       "      <th>2024-06-02</th>\n",
       "      <td>-0.000827</td>\n",
       "      <td>0.000000</td>\n",
       "      <td>0.000000</td>\n",
       "      <td>0.000</td>\n",
       "      <td>0.000</td>\n",
       "    </tr>\n",
       "    <tr>\n",
       "      <th>2024-06-03</th>\n",
       "      <td>-0.000573</td>\n",
       "      <td>0.000000</td>\n",
       "      <td>0.009660</td>\n",
       "      <td>0.000</td>\n",
       "      <td>0.000</td>\n",
       "    </tr>\n",
       "  </tbody>\n",
       "</table>\n",
       "<p>4547 rows × 5 columns</p>\n",
       "</div>"
      ],
      "text/plain": [
       "            USDJPY_delta  S&P_delta  Nikkei225_delta  US2y_df_delta  \\\n",
       "Date                                                                  \n",
       "2007-01-01      0.000336   0.000000         0.000000          0.000   \n",
       "2007-01-02     -0.002102   0.000000         0.000000         -0.021   \n",
       "2007-01-03      0.004619  -0.001199         0.000000         -0.038   \n",
       "2007-01-04     -0.002769   0.001199         0.007394         -0.062   \n",
       "2007-01-05     -0.003535  -0.006082        -0.015217          0.058   \n",
       "...                  ...        ...              ...            ...   \n",
       "2024-05-29      0.002796  -0.007394        -0.007712         -0.003   \n",
       "2024-05-30     -0.005025  -0.005993        -0.013125         -0.048   \n",
       "2024-05-31      0.003183   0.007996         0.011334         -0.008   \n",
       "2024-06-02     -0.000827   0.000000         0.000000          0.000   \n",
       "2024-06-03     -0.000573   0.000000         0.009660          0.000   \n",
       "\n",
       "            JP2y_df_delta  \n",
       "Date                       \n",
       "2007-01-01          0.000  \n",
       "2007-01-02          0.000  \n",
       "2007-01-03          0.000  \n",
       "2007-01-04          0.035  \n",
       "2007-01-05          0.000  \n",
       "...                   ...  \n",
       "2024-05-29          0.026  \n",
       "2024-05-30          0.001  \n",
       "2024-05-31          0.000  \n",
       "2024-06-02          0.000  \n",
       "2024-06-03          0.000  \n",
       "\n",
       "[4547 rows x 5 columns]"
      ]
     },
     "execution_count": 29,
     "metadata": {},
     "output_type": "execute_result"
    }
   ],
   "source": [
    "df1"
   ]
  },
  {
   "cell_type": "code",
   "execution_count": 30,
   "id": "a4015ea1",
   "metadata": {},
   "outputs": [
    {
     "data": {
      "text/plain": [
       "((4547, 4), (4547,))"
      ]
     },
     "execution_count": 30,
     "metadata": {},
     "output_type": "execute_result"
    }
   ],
   "source": [
    "X, y = df1.drop(columns=['USDJPY_delta']), df1['USDJPY_delta'].values\n",
    "X.shape, y.shape"
   ]
  },
  {
   "cell_type": "code",
   "execution_count": 33,
   "id": "01b6b058",
   "metadata": {},
   "outputs": [
    {
     "data": {
      "text/plain": [
       "array([ 0.00033602, -0.00210199,  0.00461856, ...,  0.0031835 ,\n",
       "       -0.00082674, -0.00057276])"
      ]
     },
     "execution_count": 33,
     "metadata": {},
     "output_type": "execute_result"
    }
   ],
   "source": [
    "y\n"
   ]
  },
  {
   "cell_type": "code",
   "execution_count": 44,
   "id": "0e9101cf",
   "metadata": {},
   "outputs": [],
   "source": [
    "X_trans = ss.fit_transform(X)\n",
    "y_trans = mm.fit_transform(y.reshape(-1, 1))\n",
    "\n",
    "#https://www.analyticsvidhya.com/blog/2021/04/difference-between-fit-transform-fit_transform-methods-in-scikit-learn-with-python-code/\n",
    "#https://stackoverflow.com/questions/18691084/what-does-1-mean-in-numpy-reshape"
   ]
  },
  {
   "cell_type": "code",
   "execution_count": 45,
   "id": "ddf9498b",
   "metadata": {},
   "outputs": [
    {
     "data": {
      "text/plain": [
       "array([[-2.31929616e-02, -1.26482325e-02, -3.96710194e-04,\n",
       "         8.96035205e-03],\n",
       "       [-2.31929616e-02, -1.26482325e-02, -4.03382522e-01,\n",
       "         8.96035205e-03],\n",
       "       [-1.19449122e-01, -1.26482325e-02, -7.29609132e-01,\n",
       "         8.96035205e-03],\n",
       "       ...,\n",
       "       [ 6.18537654e-01,  7.88552274e-01, -1.53915115e-01,\n",
       "         8.96035205e-03],\n",
       "       [-2.31929616e-02, -1.26482325e-02, -3.96710194e-04,\n",
       "         8.96035205e-03],\n",
       "       [-2.31929616e-02,  6.70209647e-01, -3.96710194e-04,\n",
       "         8.96035205e-03]])"
      ]
     },
     "execution_count": 45,
     "metadata": {},
     "output_type": "execute_result"
    }
   ],
   "source": [
    "X_trans"
   ]
  },
  {
   "cell_type": "code",
   "execution_count": 46,
   "id": "0eb27c5b",
   "metadata": {},
   "outputs": [
    {
     "data": {
      "text/plain": [
       "((4547, 4), (4547, 1))"
      ]
     },
     "execution_count": 46,
     "metadata": {},
     "output_type": "execute_result"
    }
   ],
   "source": [
    "X_trans.shape, y_trans.shape"
   ]
  },
  {
   "cell_type": "code",
   "execution_count": 40,
   "id": "114368c8",
   "metadata": {},
   "outputs": [
    {
     "name": "stdout",
     "output_type": "stream",
     "text": [
      "[[0.42887729]\n",
      " [0.40200762]\n",
      " [0.47607575]\n",
      " ...\n",
      " [0.46025976]\n",
      " [0.41606238]\n",
      " [0.41886153]]\n"
     ]
    }
   ],
   "source": [
    "print(y_trans)"
   ]
  },
  {
   "cell_type": "code",
   "execution_count": 105,
   "id": "2507791e",
   "metadata": {},
   "outputs": [],
   "source": [
    "#the window creates a lag in the output\n",
    "\n",
    "output_length = 20\n",
    "input_length = int(output_length*3)\n",
    "window_length = 1"
   ]
  },
  {
   "cell_type": "code",
   "execution_count": 106,
   "id": "4914aca4",
   "metadata": {},
   "outputs": [
    {
     "name": "stdout",
     "output_type": "stream",
     "text": [
      "(4469, 60, 4) (4469, 19)\n"
     ]
    }
   ],
   "source": [
    "# split a multivariate sequence past, future samples (X and y)\n",
    "#https://machinelearningmastery.com/how-to-develop-lstm-models-for-time-series-forecasting/\n",
    "def split_sequences(input_sequences, output_sequence, n_steps_in, n_steps_out, window):\n",
    "    assert n_steps_out > window\n",
    "    X, y = list(), list() # instantiate X and y\n",
    "    for i in range(len(input_sequences)):\n",
    "        # find the end of the input, output sequence\n",
    "        end_ix = i + n_steps_in\n",
    "        out_end_ix = end_ix + n_steps_out - 1\n",
    "        # check if we are beyond the dataset\n",
    "        if out_end_ix > len(input_sequences): \n",
    "            break\n",
    "        # gather input and output of the pattern\n",
    "        seq_x, seq_y = input_sequences[i:end_ix,], output_sequence[end_ix-1+window:out_end_ix,-1]  #the window lags the start of the output sequence\n",
    "        X.append(seq_x), y.append(seq_y)\n",
    "    return np.array(X), np.array(y)\n",
    "\n",
    "X_ss, y_mm = split_sequences(X_trans, y_trans, input_length, output_length, window_length)\n",
    "print(X_ss.shape, y_mm.shape)"
   ]
  },
  {
   "cell_type": "code",
   "execution_count": 107,
   "id": "c18baf5d",
   "metadata": {},
   "outputs": [
    {
     "data": {
      "text/plain": [
       "array([[ 4.42497767e-01,  8.34600084e-01, -7.71559125e-02,\n",
       "        -7.18588233e-01],\n",
       "       [-4.08675601e-01,  5.94768266e-01,  1.26613013e+00,\n",
       "         5.54621791e-01],\n",
       "       [-2.31929616e-02, -4.36212115e-02,  1.91501296e-01,\n",
       "         6.45565364e-01],\n",
       "       [-5.07261338e-01, -2.09107791e-01, -7.67988733e-01,\n",
       "         2.81791072e-01],\n",
       "       [ 7.83655487e-02, -1.99826095e-01,  1.03585252e+00,\n",
       "         8.96035205e-03],\n",
       "       [ 1.65395406e+00,  1.51614626e+00,  8.82334116e-01,\n",
       "         8.27452511e-01],\n",
       "       [ 5.20069026e-03, -1.26482325e-02, -4.99331525e-01,\n",
       "         8.96035205e-03],\n",
       "       [-3.28160844e-01,  2.31057839e-01,  8.24764714e-01,\n",
       "         9.99039252e-02],\n",
       "       [ 1.14423075e-01, -2.18100568e-03, -7.29609132e-01,\n",
       "         4.63678218e-01],\n",
       "       [-1.56059688e-01, -6.93988156e-02, -9.40696938e-01,\n",
       "         8.96035205e-03],\n",
       "       [ 3.95224487e-01, -8.81219105e-02, -4.03382522e-01,\n",
       "         1.19122680e+00],\n",
       "       [ 6.16777340e-01,  1.31866472e+00, -1.72747876e+00,\n",
       "         8.96035205e-03],\n",
       "       [-1.20115145e-01,  3.37895864e-01,  1.51559754e+00,\n",
       "        -3.54813941e-01],\n",
       "       [-8.45470299e-01, -3.30949457e-02, -9.59886739e-01,\n",
       "        -8.19832211e-02],\n",
       "       [ 3.89784883e-01, -2.47251472e-02, -3.96710194e-04,\n",
       "         9.18396084e-01],\n",
       "       [ 7.99554175e-01, -8.85636465e-01, -1.13259494e+00,\n",
       "         4.63678218e-01],\n",
       "       [-5.49342483e-01,  1.48239388e-01, -4.80141725e-01,\n",
       "         4.63678218e-01],\n",
       "       [-1.14095819e-01, -1.57657978e+00,  1.15099132e+00,\n",
       "         9.99039252e-02],\n",
       "       [ 8.71931220e-01, -5.45048971e-02,  8.82334116e-01,\n",
       "         8.96035205e-03],\n",
       "       [-1.78421548e-01, -1.97894417e-01,  9.20713717e-01,\n",
       "        -8.19832211e-02],\n",
       "       [-2.53483665e-01,  1.90578590e-01,  1.18937093e+00,\n",
       "         8.96035205e-03],\n",
       "       [-5.45344262e-01, -1.94559990e-01,  7.28815712e-01,\n",
       "        -8.09531806e-01],\n",
       "       [ 4.81815727e-01,  1.84873601e+00,  7.63624921e-02,\n",
       "        -4.45757514e-01],\n",
       "       [ 4.29078746e-01,  4.53903976e-01, -9.40696938e-01,\n",
       "        -5.36701087e-01],\n",
       "       [ 6.88116035e-01, -1.26482325e-02, -1.59315016e+00,\n",
       "         8.96035205e-03],\n",
       "       [ 2.35997795e-01,  1.40792915e+00,  7.48005512e-01,\n",
       "         2.28254968e+00],\n",
       "       [-1.35048421e-01,  1.13269160e-01, -9.21507138e-01,\n",
       "         4.63678218e-01],\n",
       "       [-2.68902269e-01, -8.37431934e-01,  6.71246310e-01,\n",
       "        -5.36701087e-01],\n",
       "       [-2.48060990e-01, -4.07968077e-02, -7.10419331e-01,\n",
       "         9.99039252e-02],\n",
       "       [ 6.66352275e-01,  6.22638244e-01, -4.80141725e-01,\n",
       "        -5.36701087e-01],\n",
       "       [ 6.69766363e-02, -1.05146688e+00,  1.15099132e+00,\n",
       "        -4.45757514e-01],\n",
       "       [-2.31929616e-02,  3.40839630e-01, -3.96710194e-04,\n",
       "        -7.18588233e-01],\n",
       "       [-1.85265143e-01, -1.01136782e+00,  1.61154654e+00,\n",
       "         9.18396084e-01],\n",
       "       [-6.06911049e-01,  5.09376177e-02, -3.65002921e-01,\n",
       "         3.72734645e-01],\n",
       "       [ 6.46358556e-02, -7.02786629e-01, -4.03382522e-01,\n",
       "        -4.45757514e-01],\n",
       "       [-1.01958122e+00,  5.60694650e-01, -5.18521326e-01,\n",
       "         3.72734645e-01],\n",
       "       [ 8.62237651e-01, -1.41462615e+00,  2.03372215e+00,\n",
       "         1.82783182e+00],\n",
       "       [-5.24990515e-02,  6.27942614e-01,  8.05574914e-01,\n",
       "         1.46405752e+00],\n",
       "       [ 9.24267741e-02,  7.48721062e-01, -9.59886739e-01,\n",
       "        -3.54813941e-01],\n",
       "       [-7.86268974e-01, -3.53498999e-01,  4.41325742e+00,\n",
       "         8.27452511e-01],\n",
       "       [ 5.73337817e-01, -2.61644527e-01, -4.03382522e-01,\n",
       "         3.19198541e+00],\n",
       "       [-1.20035454e+00,  1.32226259e-01, -1.11340514e+00,\n",
       "         5.54621791e-01],\n",
       "       [-9.93684758e-01, -5.34579296e-01,  5.94487108e-01,\n",
       "        -3.54813941e-01],\n",
       "       [-1.88418930e-01, -1.39836508e+00,  1.15099132e+00,\n",
       "         7.36508937e-01],\n",
       "       [-4.88474489e-01, -9.54888140e-01, -9.79076539e-01,\n",
       "         1.90847498e-01],\n",
       "       [-2.00613516e-01,  2.06551746e-01,  1.07423212e+00,\n",
       "        -5.36701087e-01],\n",
       "       [-7.29229139e-01, -1.91542138e+00, -3.87763113e-02,\n",
       "        -1.35519325e+00],\n",
       "       [ 6.74514494e-01,  6.89923314e-01, -2.88243719e-01,\n",
       "         1.73688824e+00],\n",
       "       [ 9.31363313e-01,  2.01422200e-01, -6.91229531e-01,\n",
       "         4.63678218e-01],\n",
       "       [-6.10029786e-03,  1.67608767e+00, -1.15535514e-01,\n",
       "         1.37311395e+00],\n",
       "       [-3.91330878e-01, -1.55786509e+00,  1.32369953e+00,\n",
       "         1.90847498e-01],\n",
       "       [ 7.92015603e-01,  5.60395115e-01, -1.34725314e-01,\n",
       "        -3.54813941e-01],\n",
       "       [ 2.31498435e-01, -1.26482325e-02, -2.69053918e-01,\n",
       "        -1.80991111e+00],\n",
       "       [-1.29572508e+00,  8.59432483e-01,  1.11261172e+00,\n",
       "        -1.72926794e-01],\n",
       "       [-2.99391580e-01, -2.55301354e-01, -1.30530315e+00,\n",
       "         1.10028323e+00],\n",
       "       [ 7.06110843e-01, -8.28281966e-02, -1.68909916e+00,\n",
       "        -2.63870367e-01],\n",
       "       [ 9.78311246e-01, -1.26482325e-02, -1.43963175e+00,\n",
       "         8.96035205e-03],\n",
       "       [ 8.01306452e-01, -1.26482325e-02,  5.94487108e-01,\n",
       "        -9.91418953e-01],\n",
       "       [ 8.45560245e-02,  1.08621185e+00, -1.73104915e-01,\n",
       "         1.90847498e-01],\n",
       "       [-2.36570866e-02, -1.17383803e+00,  2.49070697e-01,\n",
       "         7.36508937e-01]])"
      ]
     },
     "execution_count": 107,
     "metadata": {},
     "output_type": "execute_result"
    }
   ],
   "source": [
    "X_ss[-1]"
   ]
  },
  {
   "cell_type": "code",
   "execution_count": 108,
   "id": "fbc41586",
   "metadata": {},
   "outputs": [
    {
     "data": {
      "text/plain": [
       "array([0.42375617, 0.44359093, 0.45909389, 0.44068577, 0.31541832,\n",
       "       0.46140788, 0.4443085 , 0.46687124, 0.41882354, 0.46884721,\n",
       "       0.43641643, 0.42938693, 0.4160438 , 0.44623213, 0.45598668,\n",
       "       0.36978944, 0.46025976, 0.41606238, 0.41886153])"
      ]
     },
     "execution_count": 108,
     "metadata": {},
     "output_type": "execute_result"
    }
   ],
   "source": [
    "y_mm[-1]"
   ]
  },
  {
   "cell_type": "code",
   "execution_count": 109,
   "id": "8fdf94df",
   "metadata": {},
   "outputs": [
    {
     "data": {
      "text/plain": [
       "array([[0.4261072 , 0.40462431, 0.32656478, ..., 0.349446  , 0.39362131,\n",
       "        0.41215539],\n",
       "       [0.40462431, 0.32656478, 0.54059932, ..., 0.39362131, 0.41215539,\n",
       "        0.45026743],\n",
       "       [0.32656478, 0.54059932, 0.39994003, ..., 0.41215539, 0.45026743,\n",
       "        0.41031064],\n",
       "       ...,\n",
       "       [0.46155093, 0.47561731, 0.42375617, ..., 0.45598668, 0.36978944,\n",
       "        0.46025976],\n",
       "       [0.47561731, 0.42375617, 0.44359093, ..., 0.36978944, 0.46025976,\n",
       "        0.41606238],\n",
       "       [0.42375617, 0.44359093, 0.45909389, ..., 0.46025976, 0.41606238,\n",
       "        0.41886153]])"
      ]
     },
     "execution_count": 109,
     "metadata": {},
     "output_type": "execute_result"
    }
   ],
   "source": [
    "y_mm"
   ]
  },
  {
   "cell_type": "code",
   "execution_count": 110,
   "id": "f6164008",
   "metadata": {},
   "outputs": [],
   "source": [
    "assert y_mm[0].all() == y_trans[input_length-1:input_length-1+output_length].squeeze(1).all()"
   ]
  },
  {
   "cell_type": "code",
   "execution_count": 111,
   "id": "07c344d8",
   "metadata": {},
   "outputs": [
    {
     "name": "stdout",
     "output_type": "stream",
     "text": [
      "Training Shape: (4092, 60, 4) (4092, 19)\n",
      "Testing Shape: (377, 60, 4) (377, 19)\n"
     ]
    }
   ],
   "source": [
    "total_samples = len(X)\n",
    "train_test_cutoff = round(0.90 * total_samples)\n",
    "\n",
    "X_train = X_ss[:train_test_cutoff]\n",
    "X_test = X_ss[train_test_cutoff:]\n",
    "\n",
    "y_train = y_mm[:train_test_cutoff]\n",
    "y_test = y_mm[train_test_cutoff:] \n",
    "\n",
    "print(\"Training Shape:\", X_train.shape, y_train.shape)\n",
    "print(\"Testing Shape:\", X_test.shape, y_test.shape) "
   ]
  },
  {
   "cell_type": "code",
   "execution_count": 112,
   "id": "82fa99a0",
   "metadata": {},
   "outputs": [],
   "source": [
    "# convert to pytorch tensors\n",
    "X_train_tensors = torch.Tensor(X_train)\n",
    "X_test_tensors = torch.Tensor(X_test)\n",
    "\n",
    "y_train_tensors = torch.Tensor(y_train)\n",
    "y_test_tensors = torch.Tensor(y_test)"
   ]
  },
  {
   "cell_type": "code",
   "execution_count": 113,
   "id": "99f93796",
   "metadata": {},
   "outputs": [
    {
     "name": "stdout",
     "output_type": "stream",
     "text": [
      "Training Shape: torch.Size([4092, 60, 4]) torch.Size([4092, 19])\n",
      "Testing Shape: torch.Size([377, 60, 4]) torch.Size([377, 19])\n"
     ]
    }
   ],
   "source": [
    "# reshaping to rows, timestamps, features\n",
    "X_train_tensors_final = torch.reshape(X_train_tensors,   \n",
    "                                      (X_train_tensors.shape[0], input_length, \n",
    "                                       X_train_tensors.shape[2]))\n",
    "X_test_tensors_final = torch.reshape(X_test_tensors,  \n",
    "                                     (X_test_tensors.shape[0], input_length, \n",
    "                                      X_test_tensors.shape[2])) \n",
    "\n",
    "print(\"Training Shape:\", X_train_tensors_final.shape, y_train_tensors.shape)\n",
    "print(\"Testing Shape:\", X_test_tensors_final.shape, y_test_tensors.shape) "
   ]
  },
  {
   "cell_type": "code",
   "execution_count": 114,
   "id": "61f54912",
   "metadata": {},
   "outputs": [],
   "source": [
    "#This doesnt seem to be used for anything\n",
    "\n",
    "#X_check, y_check = split_sequences(X, y.reshape(-1, 1), input_length, output_length, window_length)\n",
    "#X_check[-1][0:4]"
   ]
  },
  {
   "cell_type": "code",
   "execution_count": 115,
   "id": "16bb0c36",
   "metadata": {},
   "outputs": [],
   "source": [
    "#This doesnt seem to be used for anything\n",
    "\n",
    "#df1['USDJPY_delta'].values[-output_length:]"
   ]
  },
  {
   "cell_type": "code",
   "execution_count": 116,
   "id": "da25ab03",
   "metadata": {},
   "outputs": [],
   "source": [
    "class LSTM(nn.Module):\n",
    "    \n",
    "    def __init__(self, num_classes, input_size, hidden_size, num_layers):\n",
    "        super().__init__()\n",
    "        self.num_classes = num_classes  # output size\n",
    "        self.num_layers = num_layers  # number of recurrent layers in the lstm\n",
    "        self.input_size = input_size  # input size\n",
    "        self.hidden_size = hidden_size  # neurons in each lstm layer\n",
    "        # LSTM model\n",
    "        self.lstm = nn.LSTM(input_size=input_size, hidden_size=hidden_size,\n",
    "                            num_layers=num_layers, batch_first=True, dropout=0.2)  # lstm\n",
    "        # self.fc_1 = nn.Linear(hidden_size, 16)  # first fully connected layer\n",
    "        # self.fc_2 = nn.Linear(128, 64)  # second fully connected layer\n",
    "        # self.fc_3 = nn.Linear(32, 16)  # second fully connected layer\n",
    "        self.fc_2 = nn.Linear(hidden_size, num_classes)  # third fully connected layer, adjusted to output size\n",
    "        self.relu = nn.ReLU()\n",
    "        \n",
    "    def forward(self, x):\n",
    "        # Initialize hidden and cell states\n",
    "        h_0 = torch.zeros(self.num_layers, x.size(0), self.hidden_size).to(x.device)\n",
    "        c_0 = torch.zeros(self.num_layers, x.size(0), self.hidden_size).to(x.device)\n",
    "        # Propagate input through LSTM\n",
    "        output, (hn, cn) = self.lstm(x, (h_0, c_0))  # (input, hidden, and cell state)\n",
    "        hn = hn[-1,:,:]  # Get the last layer's output to feed to the dense layers\n",
    "        out = self.relu(hn)\n",
    "        # out = self.fc_1(out)  # first dense layer\n",
    "        # out = self.relu(out)  # relu\n",
    "        # out = self.dropout1(out)\n",
    "        out = self.fc_2(out)  # second dense layer\n",
    "        out = self.relu(out)  # relu\n",
    "        # out = self.dropout1(out)\n",
    "        # out = self.fc_3(out)  # second dense layer\n",
    "        # out = self.relu(out)  # relu\n",
    "        return out"
   ]
  },
  {
   "cell_type": "code",
   "execution_count": 117,
   "id": "65e82d90",
   "metadata": {},
   "outputs": [],
   "source": [
    "class EarlyStopping:\n",
    "    \"\"\"Early stops the training if validation loss doesn't improve after a given patience.\"\"\"\n",
    "    def __init__(self, patience=7, verbose=False, delta=0, checkpoint_filename='checkpoint.pt'):\n",
    "        \"\"\"\n",
    "        Args:\n",
    "            patience (int): How long to wait after last time validation loss improved.\n",
    "                            Default: 7\n",
    "            verbose (bool): If True, prints a message for each validation loss improvement. \n",
    "                            Default: False\n",
    "            delta (float): Minimum change in the monitored quantity to qualify as an improvement.\n",
    "                            Default: 0\n",
    "        \"\"\"\n",
    "        self.patience = patience\n",
    "        self.verbose = verbose\n",
    "        self.counter = 0\n",
    "        self.best_score = None\n",
    "        self.early_stop = False\n",
    "        self.val_loss_min = np.Inf\n",
    "        self.delta = delta\n",
    "        self.checkpoint_filename = checkpoint_filename\n",
    "\n",
    "    def __call__(self, val_loss, model):\n",
    "\n",
    "        score = -val_loss\n",
    "\n",
    "        if self.best_score is None:\n",
    "            self.best_score = score\n",
    "            self.save_checkpoint(val_loss, model)\n",
    "        elif score < self.best_score + self.delta:\n",
    "            self.counter += 1\n",
    "            if self.verbose:\n",
    "                print(f'EarlyStopping counter: {self.counter} out of {self.patience}')\n",
    "            if self.counter >= self.patience:\n",
    "                self.early_stop = True\n",
    "        else:\n",
    "            self.best_score = score\n",
    "            self.save_checkpoint(val_loss, model)\n",
    "            self.counter = 0\n",
    "\n",
    "    def save_checkpoint(self, val_loss, model):\n",
    "        '''Saves model when validation loss decrease.'''\n",
    "        if self.verbose:\n",
    "            print(f'Validation loss decreased ({self.val_loss_min:.6f} --> {val_loss:.6f}).  Saving model ...')\n",
    "        torch.save(model.state_dict(), self.checkpoint_filename)  # Save your model\n",
    "        self.val_loss_min = val_loss"
   ]
  },
  {
   "cell_type": "code",
   "execution_count": 118,
   "id": "49cf7813",
   "metadata": {},
   "outputs": [],
   "source": [
    "def training_loop(n_epochs, lstm, optimiser, loss_fn, X_train, y_train, X_test, y_test, checkpoint_filename='checkpoint.pt'):\n",
    "        # Initialize the early stopping object\n",
    "        early_stopping = EarlyStopping(patience=10, verbose=False, checkpoint_filename=checkpoint_filename)\n",
    "\n",
    "        for epoch in range(n_epochs):\n",
    "            lstm.train()\n",
    "            outputs = lstm.forward(X_train)  # forward pass\n",
    "            optimiser.zero_grad()  # calculate the gradient, manually setting to 0\n",
    "            loss = loss_fn(outputs, y_train)  # obtain the loss function\n",
    "            loss.backward()  # calculates the loss of the loss function\n",
    "            optimiser.step()  # improve from loss, i.e backprop\n",
    "\n",
    "            # Evaluation with the test set\n",
    "            lstm.eval()\n",
    "            test_preds = lstm(X_test)\n",
    "            test_loss = loss_fn(test_preds, y_test)\n",
    "\n",
    "            if epoch % 100 == 0:\n",
    "                print(\"Epoch: %d, train loss: %1.5f, test loss: %1.5f\" % (epoch, loss.item(), test_loss.item()))\n",
    "\n",
    "            # Early stopping\n",
    "            early_stopping(test_loss.item(), lstm)\n",
    "            if early_stopping.early_stop:\n",
    "                print(\"Early stopping\")\n",
    "                break\n",
    "        # Load the last checkpoint with the best model\n",
    "        lstm.load_state_dict(torch.load(checkpoint_filename))"
   ]
  },
  {
   "cell_type": "code",
   "execution_count": 119,
   "id": "8174d00e",
   "metadata": {},
   "outputs": [
    {
     "name": "stderr",
     "output_type": "stream",
     "text": [
      "/Users/benny/anaconda3/lib/python3.11/site-packages/torch/nn/modules/rnn.py:83: UserWarning: dropout option adds dropout after all but last recurrent layer, so non-zero dropout expects num_layers greater than 1, but got dropout=0.2 and num_layers=1\n",
      "  warnings.warn(\"dropout option adds dropout after all but last \"\n"
     ]
    }
   ],
   "source": [
    "n_epochs = 2000 # 1000 epochs\n",
    "learning_rate = 0.001 # 0.001 lr\n",
    "\n",
    "input_size = X.shape[1] # number of features\n",
    "hidden_size = 8 # number of features in hidden state\n",
    "num_layers = 1 # number of stacked lstm layers\n",
    "\n",
    "num_classes = output_length-window_length # number of output classes \n",
    "\n",
    "lstm = LSTM(num_classes, \n",
    "            input_size, \n",
    "            hidden_size, \n",
    "            num_layers)"
   ]
  },
  {
   "cell_type": "code",
   "execution_count": 120,
   "id": "e0f79759",
   "metadata": {},
   "outputs": [
    {
     "name": "stdout",
     "output_type": "stream",
     "text": [
      "Epoch: 0, train loss: 0.10932, test loss: 0.11062\n",
      "Epoch: 100, train loss: 0.02682, test loss: 0.02703\n",
      "Epoch: 200, train loss: 0.01468, test loss: 0.01472\n",
      "Epoch: 300, train loss: 0.01451, test loss: 0.01460\n",
      "Epoch: 400, train loss: 0.01446, test loss: 0.01456\n",
      "Epoch: 500, train loss: 0.01444, test loss: 0.01454\n",
      "Epoch: 600, train loss: 0.01443, test loss: 0.01454\n",
      "Epoch: 700, train loss: 0.01442, test loss: 0.01453\n",
      "Epoch: 800, train loss: 0.01442, test loss: 0.01453\n",
      "Epoch: 900, train loss: 0.01442, test loss: 0.01453\n",
      "Early stopping\n"
     ]
    }
   ],
   "source": [
    "loss_fn = nn.MSELoss()    # mean-squared error for regression\n",
    "optimiser = torch.optim.Adam(lstm.parameters(), lr=learning_rate)\n",
    "\n",
    "training_loop(n_epochs=n_epochs,\n",
    "              lstm=lstm,\n",
    "              optimiser=optimiser,\n",
    "              loss_fn=loss_fn,\n",
    "              X_train=X_train_tensors_final,\n",
    "              y_train=y_train_tensors,\n",
    "              X_test=X_test_tensors_final,\n",
    "              y_test=y_test_tensors, \n",
    "              checkpoint_filename='forex_checkpoint.pt')"
   ]
  },
  {
   "cell_type": "code",
   "execution_count": 121,
   "id": "bd07d8ed",
   "metadata": {},
   "outputs": [
    {
     "data": {
      "text/plain": [
       "<All keys matched successfully>"
      ]
     },
     "execution_count": 121,
     "metadata": {},
     "output_type": "execute_result"
    }
   ],
   "source": [
    "lstm.load_state_dict(torch.load('forex_checkpoint.pt'))"
   ]
  },
  {
   "cell_type": "code",
   "execution_count": 122,
   "id": "3028c542",
   "metadata": {},
   "outputs": [],
   "source": [
    "df_X_ss = ss.fit_transform(df1.drop(columns=['USDJPY_delta'])) # old transformers\n",
    "df_y_mm = mm.fit_transform(df1['USDJPY_delta'].values.reshape(-1, 1)) # old transformers\n",
    "\n",
    "\n",
    "\n"
   ]
  },
  {
   "cell_type": "code",
   "execution_count": 123,
   "id": "66201b10",
   "metadata": {},
   "outputs": [
    {
     "data": {
      "text/plain": [
       "(4547, 4)"
      ]
     },
     "execution_count": 123,
     "metadata": {},
     "output_type": "execute_result"
    }
   ],
   "source": [
    "df_X_ss.shape"
   ]
  },
  {
   "cell_type": "code",
   "execution_count": 124,
   "id": "8a10312e",
   "metadata": {},
   "outputs": [],
   "source": [
    "# split the sequence\n",
    "df_X_ss, df_y_mm = split_sequences(df_X_ss, df_y_mm, input_length, output_length, window_length)\n",
    "\n"
   ]
  },
  {
   "cell_type": "code",
   "execution_count": 125,
   "id": "e540e837",
   "metadata": {},
   "outputs": [
    {
     "data": {
      "text/plain": [
       "(4469, 60, 4)"
      ]
     },
     "execution_count": 125,
     "metadata": {},
     "output_type": "execute_result"
    }
   ],
   "source": [
    "df_X_ss.shape"
   ]
  },
  {
   "cell_type": "code",
   "execution_count": 126,
   "id": "f28765da",
   "metadata": {},
   "outputs": [],
   "source": [
    "# converting to tensors\n",
    "df_X_ss = torch.Tensor(df_X_ss)\n",
    "df_y_mm = torch.Tensor(df_y_mm)\n",
    "\n"
   ]
  },
  {
   "cell_type": "code",
   "execution_count": 127,
   "id": "caf56565",
   "metadata": {},
   "outputs": [],
   "source": [
    "# reshaping the dataset\n",
    "df_X_ss = torch.reshape(df_X_ss, (df_X_ss.shape[0], input_length, df_X_ss.shape[2]))\n",
    "\n"
   ]
  },
  {
   "cell_type": "code",
   "execution_count": 128,
   "id": "21c53b49",
   "metadata": {},
   "outputs": [],
   "source": [
    "train_predict = lstm(df_X_ss) # forward pass\n",
    "\n",
    "data_predict = train_predict.data.numpy() # numpy conversion\n",
    "dataY_plot = df_y_mm.data.numpy()\n",
    "\n",
    "data_predict = mm.inverse_transform(data_predict) # reverse transformation\n",
    "dataY_plot = mm.inverse_transform(dataY_plot)"
   ]
  },
  {
   "cell_type": "code",
   "execution_count": 129,
   "id": "282f4e3e",
   "metadata": {},
   "outputs": [
    {
     "data": {
      "text/plain": [
       "4469"
      ]
     },
     "execution_count": 129,
     "metadata": {},
     "output_type": "execute_result"
    }
   ],
   "source": [
    "len(data_predict)"
   ]
  },
  {
   "cell_type": "code",
   "execution_count": 132,
   "id": "45627bd0",
   "metadata": {},
   "outputs": [
    {
     "data": {
      "text/plain": [
       "(4469, 19)"
      ]
     },
     "execution_count": 132,
     "metadata": {},
     "output_type": "execute_result"
    }
   ],
   "source": [
    "data_predict.shape\n"
   ]
  },
  {
   "cell_type": "code",
   "execution_count": 131,
   "id": "30fa9c2a",
   "metadata": {},
   "outputs": [
    {
     "data": {
      "image/png": "[encoded data removed]",
      "text/plain": [
       "<Figure size 1000x600 with 1 Axes>"
      ]
     },
     "metadata": {},
     "output_type": "display_data"
    },
    {
     "name": "stdout",
     "output_type": "stream",
     "text": [
      "377\n"
     ]
    }
   ],
   "source": [
    "true, preds = [], []\n",
    "for i in range(len(dataY_plot) - 90, len(dataY_plot)):\n",
    "    true.append(dataY_plot[i][0])\n",
    "for i in range(len(dataY_plot) - 90, len(data_predict)):\n",
    "    preds.append(data_predict[i][0])\n",
    "plt.figure(figsize=(10,6)) #plotting\n",
    "# plt.axvline(x=train_test_cutoff, c='r', linestyle='--') # size of the training set\n",
    "\n",
    "plt.plot(true, label='Actual Data') # actual plot\n",
    "plt.plot(preds, label='Predicted Data') # predicted plot\n",
    "plt.title('Time-Series Prediction')\n",
    "plt.legend()\n",
    "plt.savefig(\"whole_plot.png\", dpi=300)\n",
    "plt.show() \n",
    "print(len(dataY_plot)-train_test_cutoff)"
   ]
  },
  {
   "cell_type": "code",
   "execution_count": null,
   "id": "6b479f5e",
   "metadata": {},
   "outputs": [],
   "source": [
    "true, preds = [], []\n",
    "for i in range(len(dataY_plot) - 90, len(dataY_plot)):\n",
    "    true.append(dataY_plot[i][0])\n",
    "for i in range(len(dataY_plot) - 90, len(data_predict)):\n",
    "    preds.append(data_predict[i][0:18])\n",
    "plt.figure(figsize=(10,6)) #plotting\n",
    "# plt.axvline(x=train_test_cutoff, c='r', linestyle='--') # size of the training set\n",
    "\n",
    "plt.plot(true, label='Actual Data') # actual plot\n",
    "plt.plot(preds, label='Predicted Data') # predicted plot\n",
    "plt.title('Time-Series Prediction')\n",
    "plt.legend()\n",
    "plt.savefig(\"whole_plot.png\", dpi=300)\n",
    "plt.show() \n",
    "print(len(dataY_plot)-train_test_cutoff)"
   ]
  },
  {
   "cell_type": "code",
   "execution_count": null,
   "id": "eb66b202",
   "metadata": {},
   "outputs": [],
   "source": []
  }
 ],
 "metadata": {
  "kernelspec": {
   "display_name": "Python 3 (ipykernel)",
   "language": "python",
   "name": "python3"
  },
  "language_info": {
   "codemirror_mode": {
    "name": "ipython",
    "version": 3
   },
   "file_extension": ".py",
   "mimetype": "text/x-python",
   "name": "python",
   "nbconvert_exporter": "python",
   "pygments_lexer": "ipython3",
   "version": "3.11.5"
  }
 },
 "nbformat": 4,
 "nbformat_minor": 5
}
