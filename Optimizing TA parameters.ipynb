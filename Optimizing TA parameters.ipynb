{
 "cells": [
  {
   "cell_type": "code",
   "execution_count": 1,
   "id": "19b36c1f",
   "metadata": {},
   "outputs": [],
   "source": [
    "import yfinance as yf\n",
    "import pandas as pd\n",
    "import numpy as np\n",
    "import matplotlib.pyplot as plt\n",
    "import ta as ta\n",
    "from datetime import datetime\n",
    "import plotly.graph_objects as go\n",
    "from plotly.subplots import make_subplots\n",
    "\n",
    "#https://technical-analysis-library-in-python.readthedocs.io/en/latest/ta.html#"
   ]
  },
  {
   "cell_type": "code",
   "execution_count": 2,
   "id": "f04d96c0",
   "metadata": {},
   "outputs": [],
   "source": [
    "Base=\"USD\"\n",
    "Quote=\"JPY\"\n",
    "Pair=Base+Quote\n",
    "\n",
    "ticker = \"USDJPY=X\"\n",
    "#start=\"2021-01-01\"\n",
    "start=pd.to_datetime('2021-01-01', format='%Y-%m-%d')\n",
    "today_date = datetime.today().strftime('%Y-%m-%d')\n",
    "\n",
    "\n",
    "initial_wealth = 1"
   ]
  },
  {
   "cell_type": "code",
   "execution_count": 3,
   "id": "da3d8afd",
   "metadata": {},
   "outputs": [],
   "source": [
    "#Deposit Rate\n",
    "#https://www.interactivebrokers.com/en/accounts/fees/pricing-interest-rates.php\n",
    "USD_deposit_interest=0.0483\n",
    "JPY_deposit_interest=-0.00257\n",
    "EUR_deposit_interest=0.03427\n",
    "GBP_deposit_interest=0.04682\n",
    "AUD_deposit_interest=0.03769\n",
    "NZD_deposit_interest=0.02835\n",
    "CAD_deposit_interest=0.04343\n",
    "CNH_deposit_interest=0.0050\n",
    "SGD_deposit_interest=0.02642\n",
    "\n",
    "#Margin Rate\n",
    "#https://www.interactivebrokers.com/en/trading/margin-rates.php\n",
    "USD_margin_interest=0.0683\n",
    "JPY_margin_interest=0.015\n",
    "EUR_margin_interest=0.05427\n",
    "GBP_margin_interest=0.06682\n",
    "AUD_margin_interest=0.05769\n",
    "NZD_margin_interest=0.06835\n",
    "CAD_margin_interest=0.06343\n",
    "CNH_margin_interest=0.06234\n",
    "SGD_margin_interest=0.05142\n",
    "\n",
    "#Deposit_interest=Base+\"_deposit_interest\"\n",
    "#Margin_interest=Quote+\"_margin_interest\"\n",
    "\n",
    "#Trading Cost\n",
    "Trading_cost=0.000002\n",
    "#https://www.interactivebrokers.com/en/pricing/commissions-spot-currencies.php\n",
    "\n",
    "#Used for calculating Sharpe, can also be used as hurdle rate\n",
    "riskfree_rate = 0.03"
   ]
  },
  {
   "cell_type": "code",
   "execution_count": 4,
   "id": "65c2e0d9",
   "metadata": {},
   "outputs": [
    {
     "name": "stderr",
     "output_type": "stream",
     "text": [
      "[*********************100%%**********************]  1 of 1 completed\n"
     ]
    }
   ],
   "source": [
    "# download daily stock price data by passing in specified ticker and date range\n",
    "\n",
    "df = yf.download(ticker,start,end=today_date)"
   ]
  },
  {
   "cell_type": "code",
   "execution_count": 5,
   "id": "24bd8f07",
   "metadata": {},
   "outputs": [
    {
     "name": "stdout",
     "output_type": "stream",
     "text": [
      "                  Open        High         Low       Close   Adj Close  \\\n",
      "Date                                                                     \n",
      "2021-01-01  103.225998  103.250000  103.225998  103.225998  103.225998   \n",
      "2021-01-04  103.244003  103.244003  102.709999  103.238998  103.238998   \n",
      "2021-01-05  103.141998  103.180000  102.671997  103.125000  103.125000   \n",
      "2021-01-06  102.699997  103.431000  102.589996  102.678001  102.678001   \n",
      "2021-01-07  103.028000  103.950996  102.956001  103.024002  103.024002   \n",
      "...                ...         ...         ...         ...         ...   \n",
      "2024-05-22  156.251007  156.604996  156.147003  156.251007  156.251007   \n",
      "2024-05-23  156.703995  157.162994  156.529007  156.703995  156.703995   \n",
      "2024-05-24  156.973007  157.136993  156.867996  156.973007  156.973007   \n",
      "2024-05-27  156.869995  156.955002  156.677994  156.869995  156.869995   \n",
      "2024-05-28  156.845001  156.988998  156.612000  156.845001  156.845001   \n",
      "\n",
      "            Volume   returns  \n",
      "Date                          \n",
      "2021-01-01       0       NaN  \n",
      "2021-01-04       0  0.000217  \n",
      "2021-01-05       0 -0.001014  \n",
      "2021-01-06       0 -0.004253  \n",
      "2021-01-07       0  0.003455  \n",
      "...            ...       ...  \n",
      "2024-05-22       0 -0.000670  \n",
      "2024-05-23       0  0.002986  \n",
      "2024-05-24       0  0.001806  \n",
      "2024-05-27       0 -0.000565  \n",
      "2024-05-28       0 -0.000068  \n",
      "\n",
      "[888 rows x 7 columns]\n"
     ]
    }
   ],
   "source": [
    "#Change interest rates accordingly\n",
    "df['returns'] = np.log(df['Close'] / df['Close'].shift(1)) +(USD_deposit_interest-JPY_margin_interest)/365.25\n",
    "\n",
    "print(df)"
   ]
  },
  {
   "cell_type": "code",
   "execution_count": 11,
   "id": "bf4cf556",
   "metadata": {},
   "outputs": [],
   "source": [
    "def ma_strat(df,window1,window2):\n",
    "    #read in data from Yahoo Finance for the relevant ticker\n",
    "    df['short_ma'] = np.round(df['Close'].rolling(window=window1).mean(),4)\n",
    "    df['long_ma'] = np.round(df['Close'].rolling(window=window2).mean(),4)\n",
    "     \n",
    "    #create column with moving average spread differential\n",
    "    df['short_ma-long_ma'] = df['short_ma'] - df['long_ma']\n",
    "    \n",
    "    #set desired number of points as threshold for spread difference and create column containing strategy 'Stance'\n",
    "    X = 0\n",
    "    df['Stance'] = np.where(df['short_ma-long_ma'] > X, 1, 0)\n",
    "    df['Stance'] = np.where(df['short_ma-long_ma'] < -X, -1, df['Stance'])\n",
    "    df['Stance'].value_counts()\n",
    "     \n",
    "    #create columns containing daily market log returns and strategy daily log returns\n",
    "    df['Market Returns'] = np.log(df['Close'] / df['Close'].shift(1)) +(USD_deposit_interest-JPY_margin_interest)/365.25\n",
    "    df['Strategy'] = df['Market Returns'] * df['Stance'].shift(1)\n",
    "     \n",
    "    #set strategy starting equity to 1 (i.e. 100%) and generate equity curve\n",
    "    df['Strategy Equity'] = df['Strategy'].cumsum() + 1\n",
    "     \n",
    "    sharpe = annualised_sharpe(df['Strategy'])\n",
    "    \n",
    "    return (df['Strategy'].cumsum()[-1], sharpe)\n",
    "\n",
    "#function to calculate Sharpe Ratio - Risk free rate element excluded for simplicity\n",
    "def annualised_sharpe(returns, N=252):\n",
    "    return np.sqrt(N) * (returns.mean() / returns.std())"
   ]
  },
  {
   "cell_type": "code",
   "execution_count": 12,
   "id": "790fa426",
   "metadata": {},
   "outputs": [],
   "source": [
    "window1 = np.linspace(10,30,20,dtype=int)\n",
    "window2 = np.linspace(40,60,20,dtype=int)\n",
    "\n",
    "results_pnl = np.zeros((len(window1),len(window2)))\n",
    "results_sharpe = np.zeros((len(window1),len(window2)))\n",
    "\n",
    "#df['MA1'] = df['Close'].rolling(window1).mean()\n",
    "#df['MA2'] = df['Close'].rolling(window2).mean()\n",
    "\n",
    "#df[['Close', 'MA1','MA2']].plot(figsize=(10, 6));"
   ]
  },
  {
   "cell_type": "code",
   "execution_count": 13,
   "id": "a286d0b5",
   "metadata": {},
   "outputs": [],
   "source": [
    "for i, shortma in enumerate(window1):\n",
    "    for j, longma in enumerate(window2):\n",
    "        pnl, sharpe = ma_strat(df,shortma,longma)\n",
    "        results_pnl[i,j] = pnl\n",
    "        results_sharpe[i,j] = sharpe"
   ]
  },
  {
   "cell_type": "code",
   "execution_count": 14,
   "id": "6919dc50",
   "metadata": {},
   "outputs": [
    {
     "data": {
      "image/png": "[encoded data removed]",
      "text/plain": [
       "<Figure size 640x480 with 2 Axes>"
      ]
     },
     "metadata": {},
     "output_type": "display_data"
    }
   ],
   "source": [
    "plt.pcolor(window1,window2,results_pnl)\n",
    "plt.colorbar()\n",
    "plt.show()"
   ]
  },
  {
   "cell_type": "code",
   "execution_count": 15,
   "id": "6aa0b75b",
   "metadata": {},
   "outputs": [
    {
     "data": {
      "image/png": "[encoded data removed]",
      "text/plain": [
       "<Figure size 640x480 with 2 Axes>"
      ]
     },
     "metadata": {},
     "output_type": "display_data"
    }
   ],
   "source": [
    "plt.pcolor(window1,window2,results_sharpe)\n",
    "plt.colorbar()\n",
    "plt.show()"
   ]
  },
  {
   "cell_type": "code",
   "execution_count": 24,
   "id": "72d115be",
   "metadata": {},
   "outputs": [
    {
     "name": "stdout",
     "output_type": "stream",
     "text": [
      "(array([12]), array([19]))\n"
     ]
    }
   ],
   "source": [
    "indices = np.where(results_pnl == results_pnl.max())\n",
    "print (indices)"
   ]
  },
  {
   "cell_type": "code",
   "execution_count": null,
   "id": "bc767737",
   "metadata": {},
   "outputs": [],
   "source": []
  }
 ],
 "metadata": {
  "kernelspec": {
   "display_name": "Python 3 (ipykernel)",
   "language": "python",
   "name": "python3"
  },
  "language_info": {
   "codemirror_mode": {
    "name": "ipython",
    "version": 3
   },
   "file_extension": ".py",
   "mimetype": "text/x-python",
   "name": "python",
   "nbconvert_exporter": "python",
   "pygments_lexer": "ipython3",
   "version": "3.11.5"
  }
 },
 "nbformat": 4,
 "nbformat_minor": 5
}
